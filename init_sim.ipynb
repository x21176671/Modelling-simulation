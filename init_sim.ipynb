{
 "cells": [
  {
   "cell_type": "code",
   "execution_count": 1,
   "id": "3ca1fe2d",
   "metadata": {
    "ExecuteTime": {
     "end_time": "2022-07-25T22:36:46.220400Z",
     "start_time": "2022-07-25T22:36:46.213478Z"
    }
   },
   "outputs": [],
   "source": [
    "VERSION = '56'"
   ]
  },
  {
   "cell_type": "markdown",
   "id": "4934a37f",
   "metadata": {},
   "source": [
    "# Prelude"
   ]
  },
  {
   "cell_type": "code",
   "execution_count": 2,
   "id": "6bda5e5f",
   "metadata": {
    "ExecuteTime": {
     "end_time": "2022-07-25T22:36:46.716984Z",
     "start_time": "2022-07-25T22:36:46.221733Z"
    }
   },
   "outputs": [],
   "source": [
    "import pandas as pd\n",
    "import matplotlib.pyplot as plt\n",
    "import math\n",
    "import numpy as np\n",
    "import random\n",
    "\n",
    "import simpy"
   ]
  },
  {
   "cell_type": "code",
   "execution_count": 3,
   "id": "948c83d8",
   "metadata": {
    "ExecuteTime": {
     "end_time": "2022-07-25T22:36:46.719256Z",
     "start_time": "2022-07-25T22:36:46.717692Z"
    }
   },
   "outputs": [],
   "source": [
    "def isNearZero(x, ε = 0.00001):\n",
    "    return abs(x)<ε"
   ]
  },
  {
   "cell_type": "markdown",
   "id": "aec03aea",
   "metadata": {},
   "source": [
    "# Visualisation"
   ]
  },
  {
   "cell_type": "markdown",
   "id": "12b6e96b",
   "metadata": {},
   "source": [
    "[TOC](#Table-of-Contents)"
   ]
  },
  {
   "cell_type": "markdown",
   "id": "7ae3b5fd",
   "metadata": {},
   "source": [
    "This section provides two methods: \n",
    "\n",
    "`displayMap` takes a Network as parameter and creates a visual representation of the road network. This is useful to test\n",
    "the layout of a road network.\n",
    "\n",
    "`animate` takes two parameters: a recorder and a filename. After running a simulation it extracts the data from the recorder and creates an animated gif file of the \n",
    "simulation. \n",
    "\n",
    "The code given below can be safely ignored."
   ]
  },
  {
   "cell_type": "code",
   "execution_count": 4,
   "id": "3a78f25d",
   "metadata": {
    "ExecuteTime": {
     "end_time": "2022-07-25T22:36:46.732152Z",
     "start_time": "2022-07-25T22:36:46.720668Z"
    }
   },
   "outputs": [],
   "source": [
    "def createBackground(nw):\n",
    "\n",
    "        idata = np.zeros( (nw.height,nw.width,3), dtype=np.uint8 )\n",
    "\n",
    "        darkgreen =  (0, 128, 0)     # \"darkgreen\" \n",
    "        darkgray =   (80, 80, 80)    # \"darkgray\"\n",
    "        dirtywhite = (250, 250, 250) # \"white\" \n",
    "        dirtyblack = (20, 20, 20)    # \"black\"\n",
    "        \n",
    "        def fill(x0, x1, y0, y1, c):\n",
    "            nonlocal idata\n",
    "            for x in range(x0, x1+1):\n",
    "                for y in range(y0, y1+1):\n",
    "                    for i in range(3):\n",
    "                        # idata[y,x,i] = c[i]\n",
    "                        idata[nw.height-1-y,x,i] = c[i]\n",
    "            # plt.fill_between([x0, x1], [y0, y0], [y1, y1], color=c)\n",
    "        \n",
    "        def green(x0, x1, y0, y1):\n",
    "            fill(x0, x1, y0, y1, darkgreen)\n",
    "        def gray(x0, x1, y0, y1):\n",
    "            fill(x0, x1, y0, y1, darkgray)\n",
    "        def white(x0, x1, y0, y1):\n",
    "            fill(x0, x1, y0, y1, dirtywhite)\n",
    "        def black(x0, x1, y0, y1):\n",
    "            fill(x0, x1, y0, y1, dirtyblack)\n",
    "        def tl_red(x0, y0):\n",
    "            fill(x0, x0+1, y0, y0+1, (255,0,0))\n",
    "        def tl_green(x0, y0):\n",
    "            fill(x0, x0+1, y0, y0+1, (0,255,0))\n",
    "        def tl_yellow(x0, y0):\n",
    "            fill(x0, x0+1, y0, y0+1, (255,255,0))\n",
    "        \n",
    "        def dline(x0, x1, y0, y1):\n",
    "            nonlocal idata\n",
    "            if y0==y1:  # horizontal line\n",
    "                for x in range(x0, x1+1):\n",
    "                    if (x//4)%2==0:\n",
    "                        for i in range(3):\n",
    "                            idata[nw.height-1-y0, x, i] = dirtywhite[i]  \n",
    "            elif x0==x1: # vertical line:\n",
    "                for y in range(y0, y1+1):\n",
    "                    if (y//4)%2==0:\n",
    "                        for i in range(3):\n",
    "                            idata[nw.height-1-y, x0, i] = dirtywhite[i]  \n",
    "        \n",
    "        def fline(x0, x1, y0, y1):\n",
    "            nonlocal idata\n",
    "            if y0==y1:  # horizontal line\n",
    "                for x in range(x0, x1+1):\n",
    "                    for i in range(3):\n",
    "                        idata[nw.height-1-y0, x, i] = dirtywhite[i]\n",
    "            elif x0==x1: # vertical line:\n",
    "                for y in range(y0, y1+1):\n",
    "                    for i in range(3):\n",
    "                        idata[nw.height-1-y, x0, i] = dirtywhite[i]\n",
    "            else:\n",
    "                raise ValueError(\"Illegal fline\")\n",
    "                \n",
    "        green(0, nw.width-1, 0, nw.height-1)\n",
    "        LW = nw.LW\n",
    "        SL = nw.SL\n",
    "        \n",
    "        for X in nw.intersections.values():\n",
    "            if not X.crossRoadIsThroughRoad(EAST) and \\\n",
    "                    not X.crossRoadIsThroughRoad(NORTH):\n",
    "                gray(X.x-LW, X.x+LW, X.y-LW, X.y+LW)  \n",
    "                        \n",
    "        for r in nw.getRoads(NORTH_SOUTH):\n",
    "                   for s in r.segments:\n",
    "                            begin = nw.height-1 if s.begin is None else s.begin.y-LW\n",
    "                            end = 0 if s.end is None else s.end.y+LW\n",
    "                            gray(r.x-LW, r.x+LW, end, begin)\n",
    "                            center = (begin+end)//2\n",
    "                            if s.giveWaySOUTH:\n",
    "                                dline(r.x, r.x, end+SL, center)\n",
    "                                fline(r.x, r.x, end+1, end+SL)\n",
    "                                white(r.x, r.x+LW, end+1, end+2)\n",
    "                            else:\n",
    "                                dline(r.x, r.x, end, center)\n",
    "                            if s.giveWayNORTH:\n",
    "                                dline(r.x, r.x, center, begin-SL)\n",
    "                                fline(r.x, r.x, begin-SL, begin)\n",
    "                                white(r.x-LW, r.x, begin-1, begin)                               \n",
    "                            else:\n",
    "                                dline(r.x, r.x, center, begin)\n",
    "\n",
    "        for r in nw.getRoads(EAST_WEST):\n",
    "                    for s in r.segments:\n",
    "                            begin = nw.width-1 if s.begin is None else s.begin.x-LW\n",
    "                            end = 0 if s.end is None else s.end.x+LW\n",
    "                            gray(end, begin, r.y-LW, r.y+LW)\n",
    "                            center = (begin+end)//2\n",
    "                            if s.giveWayWEST:\n",
    "                                dline(end+SL, center, r.y, r.y)\n",
    "                                fline(end+1, end+SL, r.y, r.y)\n",
    "                                white(end+1, end+2, r.y-LW, r.y)\n",
    "                            else:\n",
    "                                dline(end, center, r.y, r.y)\n",
    "                            if s.giveWayEAST:\n",
    "                                dline(center, begin-SL, r.y, r.y)\n",
    "                                fline(begin-SL, begin, r.y, r.y)\n",
    "                                white(begin-1, begin, r.y, r.y+LW)                               \n",
    "                            else:\n",
    "                                dline(center, begin, r.y, r.y)    \n",
    "        return idata"
   ]
  },
  {
   "cell_type": "code",
   "execution_count": 5,
   "id": "bdec4dfd",
   "metadata": {
    "ExecuteTime": {
     "end_time": "2022-07-25T22:36:46.735866Z",
     "start_time": "2022-07-25T22:36:46.733113Z"
    }
   },
   "outputs": [],
   "source": [
    "from PIL import Image\n",
    "\n",
    "def displayMap(nw):\n",
    "        # was formerly a method in class network\n",
    "        idata = createBackground(nw)\n",
    "            \n",
    "        res = 100 # [dpi]\n",
    "        fig = plt.figure(dpi=res)\n",
    "        fig.set_figwidth(1.32*nw.width/res-0.226)\n",
    "        fig.set_figheight(1.32*nw.height/res-0.226)\n",
    "    \n",
    "        ax = plt.gca()\n",
    "        ax.axis('off')\n",
    "    \n",
    "        plt.xlim(0, nw.width-1)\n",
    "        plt.ylim(0, nw.height-1)\n",
    "\n",
    "        def flatten(l):\n",
    "            return [ (r,g,b) for row in l for [r,g,b] in row ]\n",
    "        \n",
    "        img = Image.new('RGB', (nw.width, nw.height))\n",
    "        img.putdata(flatten(idata.tolist()))\n",
    "        img2=img.transpose(Image.Transpose.FLIP_TOP_BOTTOM)\n",
    "        plt.imshow(img2)"
   ]
  },
  {
   "cell_type": "code",
   "execution_count": 6,
   "id": "ea0a6a7c",
   "metadata": {
    "ExecuteTime": {
     "end_time": "2022-07-25T22:36:46.747875Z",
     "start_time": "2022-07-25T22:36:46.736756Z"
    }
   },
   "outputs": [],
   "source": [
    "from matplotlib.animation import FuncAnimation\n",
    "import copy\n",
    "from PIL import Image\n",
    "       \n",
    "       \n",
    "def animate(rec, filename, start_time=None, end_time=None):\n",
    "    \n",
    "    filename += \"_\"+VERSION+\".gif\"\n",
    "\n",
    "    background = createBackground(rec.network)\n",
    "    \n",
    "    data = rec.getData()\n",
    "    timerevents = data[data['event']=='timer']\n",
    "    \n",
    "    # vehicle visualisation size parameter\n",
    "    VL = rec.network.VL   # lengt\n",
    "    VW = rec.network.VW   # width\n",
    "    \n",
    "    height = rec.network.height\n",
    "    width = rec.network.width\n",
    "    \n",
    "    brightWhite = (255, 255, 255)\n",
    "    darkBlue = (0, 0, 180)\n",
    "    darkRed = (180, 0, 0)\n",
    "    darkgreen = (0, 200, 0)\n",
    "    orange = (200, 120, 0)\n",
    "    black = (0, 0, 0)\n",
    "    darkGray = (50, 50, 50)\n",
    "    \n",
    "    def flatten(l):\n",
    "        return [ (r,g,b) for row in l for [r,g,b] in row ]\n",
    "\n",
    "    def fill(idata, x0, x1, y0, y1, c):\n",
    "        \n",
    "        for x in range(max(x0,0), min(x1+1,width)):\n",
    "            for y in range(max(y0,0), min(y1+1,height)):\n",
    "                for i in range(3):\n",
    "                    idata[height-1-y,x,i] = c[i]\n",
    "    \n",
    "    def vehicle(idata, x, y, direction, color):\n",
    "        \n",
    "        VW = rec.network.VW\n",
    "        VL = rec.network.VL\n",
    "        x = int(round(x,0))\n",
    "        y = int(round(y,0))\n",
    "        \n",
    "        if color=='red':\n",
    "            color = darkRed\n",
    "        elif color=='blue':\n",
    "            color = darkBlue\n",
    "        elif color=='green':\n",
    "            color = darkgreen\n",
    "        elif color=='black':\n",
    "            color = black\n",
    "        elif color=='orange':\n",
    "            color = orange\n",
    "        else:\n",
    "            raise ValueError('undefined color:', color)\n",
    "        \n",
    "        if direction=='SOUTH':\n",
    "            fill(idata, x-VW//2, x+VW//2, y, y+VL-1, color)\n",
    "            fill(idata, x-VW//2, x-VW//2, y, y, brightWhite)\n",
    "            fill(idata, x+VW//2, x+VW//2, y, y, brightWhite)\n",
    "\n",
    "        elif direction=='NORTH':\n",
    "            fill(idata, x-VW//2, x+VW//2, y-VL+1, y, color)\n",
    "            fill(idata, x+VW//2, x+VW//2, y, y, brightWhite)\n",
    "            fill(idata, x-VW//2, x-VW//2, y, y, brightWhite)\n",
    "            \n",
    "        elif direction=='EAST':\n",
    "            fill(idata, x-VL+1, x, y-VW//2, y+VW//2, color)\n",
    "            fill(idata, x, x, y+VW//2, y+VW//2, brightWhite)\n",
    "            fill(idata, x, x, y-VW//2, y-VW//2, brightWhite)\n",
    "            \n",
    "        elif direction=='WEST':\n",
    "            fill(idata, x, x+VL-1, y-VW//2, y+VW//2, color)\n",
    "            fill(idata, x, x, y+VW//2, y+VW//2, brightWhite)\n",
    "            fill(idata, x, x, y-VW//2, y-VW//2, brightWhite)\n",
    "            \n",
    "        else:\n",
    "            raise ValueError('illegal direction')\n",
    "        \n",
    "    def snapshot(t):\n",
    "\n",
    "        # get a fresh copy of the background image\n",
    "        idata = copy.deepcopy(background)\n",
    "        print('.', end='')\n",
    " \n",
    "        current = timerevents[timerevents['t']==t]\n",
    "        vehicles = list(current['id'])\n",
    "        for id in vehicles:\n",
    "            v = current[current['id']==id]\n",
    "            x = v['x'].values[0]\n",
    "            y = v['y'].values[0]\n",
    "            d = v['dir'].values[0]\n",
    "            c = v['col'].values[0]\n",
    "            vehicle(idata, x, y, d, color=c)\n",
    "        \n",
    "\n",
    "        img = Image.new('RGB', (width, height))\n",
    "        # note flatten is the slowest operation \n",
    "        # it takes about 90% of the execution time of\n",
    "        # snapshot, around 60ms. However animation\n",
    "        # framework takes about 500ms per snapshot\n",
    "        img.putdata(flatten(idata.tolist()))\n",
    "        img2=img.transpose(Image.Transpose.FLIP_TOP_BOTTOM)\n",
    "        plt.imshow(img2)\n",
    " \n",
    "    res = 120 # [dpi]\n",
    "    fig = plt.figure(dpi=res, frameon=False)\n",
    "    fig.set_figwidth(width//res)\n",
    "    fig.set_figheight(height//res)\n",
    "    ax = plt.Axes(fig, [0., 0., 1., 1.])\n",
    "    ax.set_axis_off()\n",
    "    fig.add_axes(ax)\n",
    "    \n",
    "    plt.xlim(0, width-1)\n",
    "    plt.ylim(0, height-1)\n",
    "    \n",
    "    if start_time is None:\n",
    "        start_time = rec.startTime # timerevents['t'].min()\n",
    "        \n",
    "    if end_time is None:\n",
    "        end_time = rec.stopTime # timerevents['t'].max()\n",
    "        \n",
    "    Δt = rec.timeStep\n",
    "    \n",
    "    times = np.arange(start_time, end_time+Δt/2, Δt)\n",
    "    \n",
    "    # interval: update frequency in milliseconds\n",
    "    anim = FuncAnimation(fig, snapshot, repeat=True, repeat_delay=2000, \n",
    "                         frames=times,       \n",
    "                         interval=100) \n",
    "                \n",
    "    # extra args control how often the animation should be looped extra_args=['-loop','-1']\n",
    "    anim.save(filename, dpi=300, writer='imagemagick')\n",
    "    \n",
    "    print('done')"
   ]
  },
  {
   "cell_type": "markdown",
   "id": "1e5e7f34",
   "metadata": {},
   "source": [
    "# Road Network"
   ]
  },
  {
   "cell_type": "markdown",
   "id": "dffe76eb",
   "metadata": {},
   "source": [
    "[TOC](#Table-of-Contents)"
   ]
  },
  {
   "cell_type": "markdown",
   "id": "c632a5c4",
   "metadata": {},
   "source": [
    "A National Road goes straight in North-South direction through a town. It divides the town in two parts, the eastern Old Town and the western New Town. "
   ]
  },
  {
   "cell_type": "markdown",
   "id": "9296663b",
   "metadata": {},
   "source": [
    "- `St` for Street going in North-South direction\n",
    "- `Rd` for Roads going in East-West direction\n",
    "- `Bd` for Border denoting the limits of the drawing area\n",
    "- `N`, `S`, `E`, `W`, `M` stands for North, South, East, West and Main\n",
    "- Streets and Roads have two lanes marked by their direction:\n",
    "`WSt_Nbd` describes the North bound lane of West Street\n",
    "- Intersections are described by adding `x` and the name of the crossing street or road and an `i` or `o` indicating the point of entering *into* or coming *out of* the crossing, like `WSt_Nbd_xNRd_i`"
   ]
  },
  {
   "cell_type": "code",
   "execution_count": 7,
   "id": "5f76c2c0",
   "metadata": {
    "ExecuteTime": {
     "end_time": "2022-07-25T22:36:46.753283Z",
     "start_time": "2022-07-25T22:36:46.748928Z"
    }
   },
   "outputs": [],
   "source": [
    "# Global constants indicating main directions\n",
    "\n",
    "NORTH = \"NORTH\"\n",
    "SOUTH = \"SOUTH\"\n",
    "EAST = \"EAST\"\n",
    "WEST = \"WEST\"\n",
    "\n",
    "NORTH_SOUTH = 'NORTH-SOUTH'\n",
    "EAST_WEST = 'EAST-WEST'\n",
    "\n",
    "def left(direction):\n",
    "    if direction is NORTH:\n",
    "        return WEST\n",
    "    elif direction is SOUTH:\n",
    "        return EAST\n",
    "    elif direction is EAST:\n",
    "        return NORTH\n",
    "    elif direction is WEST:\n",
    "        return SOUTH\n",
    "    else:\n",
    "        raise ValueError(\"illegal direction: \"+direction)\n",
    "        \n",
    "def right(direction):\n",
    "    return opposite(left(direction))\n",
    "        \n",
    "def cross(direction):\n",
    "    if direction is NORTH_SOUTH:\n",
    "        return EAST_WEST\n",
    "    elif direction is EAST_WEST:\n",
    "        return NORTH_SOUTH\n",
    "    else:\n",
    "        raise ValueError(\"illegal direction: \"+direction)\n",
    "        \n",
    "def opposite(direction):\n",
    "    if direction is NORTH:\n",
    "        return SOUTH\n",
    "    elif direction is SOUTH:\n",
    "        return NORTH\n",
    "    elif direction is EAST:\n",
    "        return WEST\n",
    "    elif direction is WEST:\n",
    "        return EAST\n",
    "    else:\n",
    "        raise ValueError(\"illegal direction: \"+direction)\n",
    "        \n",
    "def mainDirection(direction):\n",
    "    if direction is NORTH or direction is SOUTH:\n",
    "        return NORTH_SOUTH\n",
    "    elif direction is EAST or direction is WEST:\n",
    "        return EAST_WEST\n",
    "    else:\n",
    "        raise ValueError(\"illegal direction: \"+direction)"
   ]
  },
  {
   "cell_type": "code",
   "execution_count": 8,
   "id": "5c01ebae",
   "metadata": {
    "ExecuteTime": {
     "end_time": "2022-07-25T22:36:46.756906Z",
     "start_time": "2022-07-25T22:36:46.754379Z"
    }
   },
   "outputs": [],
   "source": [
    "# Global constants indicating relative directions\n",
    "LEFT = \"LEFT\"\n",
    "RIGHT = \"RIGHT\"\n",
    "\n",
    "def look(leftOrRight, direction):\n",
    "    if leftOrRight is LEFT:\n",
    "        return left(direction)\n",
    "    elif leftOrRight is RIGHT:\n",
    "        return right(direction)\n",
    "    else:\n",
    "        raise ValueError(\"unexpected: \"+leftOrRight)"
   ]
  },
  {
   "cell_type": "markdown",
   "id": "63f8c57b",
   "metadata": {},
   "source": [
    "## Roads"
   ]
  },
  {
   "cell_type": "code",
   "execution_count": 9,
   "id": "195cecff",
   "metadata": {
    "ExecuteTime": {
     "end_time": "2022-07-25T22:36:46.766139Z",
     "start_time": "2022-07-25T22:36:46.758771Z"
    }
   },
   "outputs": [],
   "source": [
    "class Road:\n",
    "    def __init__(self, network, name, shortName, direction, coord):\n",
    "        \n",
    "        global NORTH_SOUTH, EAST_WEST\n",
    "        \n",
    "        self.network = network\n",
    "        self.name = name\n",
    "        self.shortName = shortName\n",
    "        self.segments = []\n",
    "        if direction == NORTH_SOUTH:\n",
    "            self.direction = NORTH_SOUTH\n",
    "            self.x = int(round(coord*network.width, 0))\n",
    "            self.y = None\n",
    "            self.length = network.height\n",
    "        elif direction == EAST_WEST:\n",
    "            self.direction = EAST_WEST\n",
    "            self.x = None\n",
    "            self.y = int(round(coord*network.height, 0))\n",
    "            self.length = network.width\n",
    "        else:\n",
    "            raise ValueError('illegal Road direction: '+direction)\n",
    "        network.roads.append(self)\n",
    "        if network.rec is not None:\n",
    "            network.rec.registerRoad(self)\n",
    "       \n",
    "    def __str__(self):\n",
    "        return self.name\n",
    "    \n",
    "    def getName(self):\n",
    "        return self.name\n",
    "    \n",
    "    def getShortName(self):\n",
    "        return self.shortName\n",
    "    \n",
    "    def getX(self):\n",
    "        if self.x is not None:\n",
    "            return self.x\n",
    "        else:\n",
    "            raise ValueError('illegal coordinate for: ', self.direction)\n",
    "            \n",
    "    def getY(self):\n",
    "        if self.y is not None:\n",
    "            return self.y\n",
    "        else:\n",
    "            raise ValueError('illegal coordinate for: ', self.direction)\n",
    "            \n",
    "    def addSegment(self, segment):\n",
    "        self.segments.append(segment)\n",
    "        \n",
    "    def getRoadSegment(self, x, y):\n",
    "        for s in self.segments:\n",
    "            if s.contains(x, y):\n",
    "                return s\n",
    "        return None\n",
    "    \n",
    "    def getLength(self):\n",
    "        return self.length\n",
    "    \n",
    "    def getIntersection(self, r):\n",
    "        return self.network.getIntersection(self, r)\n",
    "    \n",
    "    def getCrossRoads(self):\n",
    "        return self.network.getRoads(cross(self.direction))\n",
    "        \n",
    "    def getIntersections(self):\n",
    "        return [ self.getIntersection(r) \n",
    "                    for r in self.getCrossRoads() ]\n",
    "    \n",
    "    def getIntersectionPoints(self, direction):\n",
    "        intersections = self.getIntersections()\n",
    "        if self.direction is NORTH_SOUTH:\n",
    "            if direction is NORTH:\n",
    "                return [ i.y for i in intersections]\n",
    "            else:\n",
    "                return [ self.length-i.y for i in intersections]\n",
    "        else:  # EAST_WEST\n",
    "            if direction is EAST:\n",
    "                return [ i.x for i in intersections]\n",
    "            else:\n",
    "                return [ self.length-i.x for i in intersections]\n",
    "        \n",
    "    def freeDist(self, direction, r):\n",
    "        intersection = self.getIntersection(r)\n",
    "        queueLength = intersection.getQueueLength(direction)\n",
    "        s = intersection.stop(direction, queueLength)\n",
    "        if self.direction is NORTH_SOUTH:\n",
    "            y = s[1] if direction==NORTH else self.length-s[1]\n",
    "            return y\n",
    "        else:\n",
    "            x = s[0] if direction==EAST else self.length-s[0]\n",
    "            return x\n",
    "        \n",
    "    def freeDistance(self, direction):\n",
    "        crossRoads = self.getCrossRoads()\n",
    "        distances = [ self.freeDist(direction, r) \n",
    "                        for r in crossRoads ]\n",
    "        return min(distances)\n",
    "    \n",
    "    def getVehicles(self, direction):\n",
    "        acc = []\n",
    "        for v in self.network.rec.vehicles:\n",
    "            if v.road==self and v.direction==direction:\n",
    "                acc.append(v)\n",
    "        return acc"
   ]
  },
  {
   "cell_type": "markdown",
   "id": "58b7f76b",
   "metadata": {},
   "source": [
    "## Intersections"
   ]
  },
  {
   "cell_type": "code",
   "execution_count": 10,
   "id": "8618dcd7",
   "metadata": {
    "ExecuteTime": {
     "end_time": "2022-07-25T22:36:46.775344Z",
     "start_time": "2022-07-25T22:36:46.768123Z"
    }
   },
   "outputs": [],
   "source": [
    "class Intersection:\n",
    "    def __init__(self, network, rNS, rEW):\n",
    "        self.name = rNS.name + ' x ' + rEW.name\n",
    "        self.rNS = rNS\n",
    "        self.rEW = rEW\n",
    "        self.x = rNS.x\n",
    "        self.y = rEW.y\n",
    "        self.network = network\n",
    "        self.NE = None\n",
    "        self.NW = None\n",
    "        self.SE = None\n",
    "        self.SW = None \n",
    "        self.queues = { NORTH: None, EAST: None, SOUTH: None, WEST: None }\n",
    "        self.spots = { NORTH: [], EAST: [], SOUTH: [], WEST: [] }\n",
    "        if self.network.rec is not None:\n",
    "            self.network.rec.registerIntersection(self)    \n",
    "            \n",
    "    def __str__(self):\n",
    "        return self.name\n",
    "    \n",
    "    def centrePoint(self):\n",
    "        return (self.x, self.y)\n",
    "    \n",
    "    def crossRoad(self, incomingDirection):\n",
    "        if incomingDirection is NORTH or \\\n",
    "                incomingDirection is SOUTH:\n",
    "            return self.rEW\n",
    "        else:\n",
    "            return self.rNS\n",
    "        \n",
    "    def crossRoadIsThroughRoad(self, incomingDirection):\n",
    "        road = self.crossRoad(incomingDirection)\n",
    "        for s in road.segments:\n",
    "            if s.begin==self or s.end==self:\n",
    "                return False\n",
    "        return True\n",
    "                \n",
    "    def getQueueLength(self, incomingDirection):\n",
    "        queue = self.queues[incomingDirection]\n",
    "        if queue is None:\n",
    "            env = self.network.rec.env\n",
    "            queue = simpy.Resource(env, capacity=1)\n",
    "            self.queues[incomingDirection] = queue\n",
    "        return len(queue.queue)\n",
    "        \n",
    "    def request(self, incomingDirection):\n",
    "        env = self.network.rec.env\n",
    "        queue = self.queues[incomingDirection]\n",
    "        spots = self.spots[incomingDirection]\n",
    "        if queue is None:\n",
    "            queue = simpy.Resource(env, capacity=1)\n",
    "            self.queues[incomingDirection] = queue\n",
    "        request = queue.request()\n",
    "        if len(queue.queue)>=len(spots):\n",
    "            spots += [ simpy.Resource(env, capacity=1) ]\n",
    "            self.spots[incomingDirection] = spots\n",
    "        return request\n",
    "    \n",
    "    def release(self, incomingDirection, request):\n",
    "        queue = self.queues[incomingDirection]\n",
    "        queue.release(request)\n",
    "        \n",
    "    def getSpotRequest(self, incomingDirection, pos):\n",
    "        env = self.network.rec.env\n",
    "        spots = self.spots[incomingDirection]\n",
    "        while pos>=len(spots):\n",
    "            spots += [ simpy.Resource(env, capacity=1) ]\n",
    "            self.spots[incomingDirection] = spots\n",
    "        request = spots[pos].request()\n",
    "        return request\n",
    "        \n",
    "    def releaseSpot(self, incomingDirection, pos, request):\n",
    "        spots = self.spots[incomingDirection]\n",
    "        spots[pos].release(request)\n",
    "        \n",
    "    def stop(self, direction, queueLength):\n",
    "        LW = self.network.LW  # Lane Width\n",
    "        VL = self.network.VL  # Vehicle Length\n",
    "        LD = self.network.LD  # Stop Line Distance\n",
    "        SD = self.network.SD  # Stop Distance\n",
    "        \n",
    "        dist = VL+SD\n",
    "        if direction is NORTH:\n",
    "            return (self.x-LW/2, self.y-LW-LD-queueLength*dist)\n",
    "        elif direction is SOUTH:\n",
    "            return (self.x+LW/2, self.y+LW+LD+queueLength*dist)\n",
    "        elif direction is EAST:\n",
    "            return (self.x-LW-LD-queueLength*dist, self.y+LW/2)\n",
    "        elif direction is WEST:\n",
    "            return (self.x+LW+LD+queueLength*dist, self.y-LW/2)"
   ]
  },
  {
   "cell_type": "markdown",
   "id": "e0e8f80f",
   "metadata": {},
   "source": [
    "## Road Segments"
   ]
  },
  {
   "cell_type": "code",
   "execution_count": 11,
   "id": "edbbc3b8",
   "metadata": {
    "ExecuteTime": {
     "end_time": "2022-07-25T22:36:46.779668Z",
     "start_time": "2022-07-25T22:36:46.776238Z"
    }
   },
   "outputs": [],
   "source": [
    "class RoadSegment:\n",
    "    def __init__(self, road, begin, end):        \n",
    "        if road.direction==NORTH_SOUTH:\n",
    "            self.direction = SOUTH\n",
    "            self.giveWayNORTH = begin is not None\n",
    "            self.giveWaySOUTH = end is not None\n",
    "        elif road.direction==EAST_WEST:\n",
    "            self.direction = WEST\n",
    "            self.giveWayEAST = begin is not None\n",
    "            self.giveWayWEST = end is not None\n",
    "        self.road = road\n",
    "        self.begin = road.network.getIntersection(road, begin)\n",
    "        self.end = road.network.getIntersection(road, end)\n",
    "        self.name = road.name + \"(\" + self.direction + \") [\"+str(begin)+\",\"+str(end)+\"]\"\n",
    "        road.addSegment(self)\n",
    "\n",
    "    def __str__(self):\n",
    "        return self.name\n",
    "    \n",
    "    def contains(self, x, y):\n",
    "        if self.road.direction is NORTH_SOUTH:\n",
    "            return min(begin.y, end.y) <= y <= max(begin.y, end.y) and \\\n",
    "                    self.road.x-LW <= x <= self.road.x+LW\n",
    "        elif self.road.direction is EAST_WEST:\n",
    "            return min(begin.x, end.x) <= x <= max(begin.x, end.x) and \\\n",
    "                    self.road.y-LW <= y <= self.road.y+LW\n",
    "        else:\n",
    "            raise ValueError('Illegal direction:', self.road.name)"
   ]
  },
  {
   "cell_type": "markdown",
   "id": "f69ba773",
   "metadata": {},
   "source": [
    "## Road Networks"
   ]
  },
  {
   "cell_type": "code",
   "execution_count": 12,
   "id": "0d3e7327",
   "metadata": {
    "ExecuteTime": {
     "end_time": "2022-07-25T22:36:46.785832Z",
     "start_time": "2022-07-25T22:36:46.780537Z"
    }
   },
   "outputs": [],
   "source": [
    "class RoadNetwork:\n",
    "    def __init__(self, name, width, height, rec=None):\n",
    "        self.rec = rec\n",
    "        if rec is not None:\n",
    "            rec.network = self\n",
    "        self.name = name\n",
    "        self.width = width\n",
    "        self.height = height\n",
    "        self.roads = []\n",
    "        self.intersections = dict()\n",
    "        self.background = None\n",
    "            \n",
    "        self.LW = 6  # [m] lane width from road standards \n",
    "        self.SL = 40 # [m] length of keep clear line near crossing\n",
    "        self.VL = 10 # [m] length of a vehicle \n",
    "        self.VW = 4  # [m] width of a vehicle \n",
    "        self.LD = 3  # [m] distance of stop point from side of crossing road\n",
    "        self.SD = 4  # [m] enlarged distance between stopped vehicles (car length)\n",
    "\n",
    "    def addRoad(self, name, shortName, direction, coord):\n",
    "        for r in self.roads:\n",
    "            if name in [r.getName(), r.getShortName()]:\n",
    "                raise ValueError(\"Road name re-used: \", name)\n",
    "            if shortName in [r.getName(), r.getShortName()]:\n",
    "                raise ValueError(\"Road name re-used: \", shortName)\n",
    "        r = Road(self, name, shortName, direction, coord)\n",
    "        return r\n",
    "        \n",
    "    def getRoads(self, direction):\n",
    "        return [ r for r in self.roads if r.direction is direction ]\n",
    "    \n",
    "    def getRoad(self, name):\n",
    "        for r in self.roads:\n",
    "            if r.name == name  or r.shortName == name:\n",
    "                return r\n",
    "        return None\n",
    "\n",
    "    def getIntersection(self, r1, r2):\n",
    "        if r1 is None or r2 is None:\n",
    "            return None\n",
    "        if type(r1) is str:\n",
    "            r1 = self.getRoad(r1)\n",
    "        if type(r2) is str:\n",
    "            r2 = self.getRoad(r2)\n",
    "        if r1.network is not self or r2.network is not self:\n",
    "            raise ValueError('intersection roads from different networks')\n",
    "        rNS, rEW = (r1, r2) if r1.direction is NORTH_SOUTH else (r2, r1)\n",
    "        if rNS.direction is not NORTH_SOUTH or \\\n",
    "                rEW.direction is not EAST_WEST:\n",
    "            raise ValueError('problem with intersection:', rNS.name, rEW.name)\n",
    "        name = rNS.name + ' x ' + rEW.name  \n",
    "        if name not in self.intersections:\n",
    "            intersection = Intersection(self, rNS, rEW)\n",
    "            self.intersections[name] = intersection\n",
    "        return self.intersections[name]\n",
    "    \n",
    "    def getIntersectionByName(self, name):\n",
    "        if name in self.intersections:\n",
    "            return self.intersections[name]\n",
    "        else:\n",
    "            return None"
   ]
  },
  {
   "cell_type": "markdown",
   "id": "6dd0f567",
   "metadata": {},
   "source": [
    "# Vehicles"
   ]
  },
  {
   "cell_type": "markdown",
   "id": "8bf3e81f",
   "metadata": {},
   "source": [
    "[TOC](#Table-of-Contents)"
   ]
  },
  {
   "cell_type": "code",
   "execution_count": 13,
   "id": "020d5072",
   "metadata": {
    "ExecuteTime": {
     "end_time": "2022-07-25T22:36:46.788248Z",
     "start_time": "2022-07-25T22:36:46.786673Z"
    }
   },
   "outputs": [],
   "source": [
    "# emergency brake decelleration\n",
    "#   Tesla:   -8.0 m/s²\n",
    "#   normal:  -4.0 m/s²  \n",
    "A_BRAKE = -4.0 # [m/s²]   \n",
    "\n",
    "# average decelleration when using engine braking\n",
    "#   Tesla:   -1.8 m/s²   (regenerative braking)\n",
    "#   default: -0.6 m/s²\n",
    "A_COAST = -0.6 # [m/s²]    \n",
    "\n",
    "# max accelleration depending on car class\n",
    "#   Tesla:   4.6 m/s²\n",
    "#   default: 2.5 m/s² corresponds to 0-100km/h om 11s\n",
    "A_MAX =  2.5 # [m/s²]   "
   ]
  },
  {
   "cell_type": "code",
   "execution_count": 14,
   "id": "a2028eb0",
   "metadata": {
    "ExecuteTime": {
     "end_time": "2022-07-25T22:36:46.820336Z",
     "start_time": "2022-07-25T22:36:46.788900Z"
    },
    "code_folding": []
   },
   "outputs": [],
   "source": [
    "class Vehicle:\n",
    "    \n",
    "    def __init__(self, rec, road, direction,\n",
    "                 t0=0, v=0, a=0, vmax=None, \n",
    "                 color='red', plan=None):\n",
    "        \n",
    "        # the simulation wide vehicle registry is\n",
    "        # anchored in the recorder\n",
    "        self.id = rec.register(self)\n",
    "        \n",
    "        self.a_brake = A_BRAKE\n",
    "        self.a_coast = A_COAST\n",
    "        self.a_max = A_MAX\n",
    "\n",
    "        self.length = rec.network.VL # [m]  Length of the vehicle \n",
    "        \n",
    "        self.nomore_tolerance = 2 # [s]\n",
    "        self.time_tolerance = 5 # [s]\n",
    "        \n",
    "        ## if not None the preferred max free velocity\n",
    "        self.vmax = vmax\n",
    "        self.color = color\n",
    "        self.plan = plan\n",
    "        \n",
    "        self.env = rec.env\n",
    "        self.rec = rec\n",
    "\n",
    "        self.t0 = t0\n",
    "        self.road = road\n",
    "\n",
    "        # self.x0 and self.y0 [m] specify the position of the\n",
    "        # reference point in the front center of the vehicle \n",
    "        if direction==SOUTH: \n",
    "            self.direction = SOUTH\n",
    "            self.cos𝜑, self.sin𝜑 = 0, -1\n",
    "            self.x0 = road.x+rec.network.LW//2\n",
    "            self.y0 = rec.network.height-1\n",
    "\n",
    "        elif direction==NORTH:\n",
    "            self.direction = NORTH\n",
    "            self.cos𝜑, self.sin𝜑 = 0, +1\n",
    "            self.x0 = road.x-rec.network.LW//2\n",
    "            self.y0 = 0  \n",
    "\n",
    "        elif direction==EAST:\n",
    "            self.direction = EAST\n",
    "            self.cos𝜑, self.sin𝜑 = +1, 0\n",
    "            self.x0 = 0\n",
    "            self.y0 = road.y+rec.network.LW//2\n",
    "\n",
    "        elif direction==WEST:\n",
    "            self.direction = WEST\n",
    "            self.cos𝜑, self.sin𝜑 = -1, 0\n",
    "            self.x0 = rec.network.width-1\n",
    "            self.y0 = road.y-rec.network.LW//2\n",
    "        \n",
    "        else:\n",
    "            raise ValueError(\"illegal direction\", direction)\n",
    "\n",
    "        self.startPoint = (self.x0, self.y0)\n",
    "        self.dx0, self.dy0 = v*self.cos𝜑, v*self.sin𝜑\n",
    "        self.ddx0, self.ddy0 = a*self.cos𝜑, a*self.sin𝜑\n",
    "         \n",
    "        self.stopQueueReq = None  # request object for queueing at stop\n",
    "        self.positionInQueue = None\n",
    "        self.spotQueueReq = None # request for position in queue\n",
    "        \n",
    "        # trace flags\n",
    "        self.traceEvents = False\n",
    "        self.traceCrossing = False\n",
    "        self.traceAdjustVelocity = False\n",
    "        self.traceCruising = False\n",
    "        self.traceInterrupt = False\n",
    "        self.traceBraking = False\n",
    " \n",
    "        # start process\n",
    "        self.running = False\n",
    "                \n",
    "        # Flags used for temporarily exclusive behaviour\n",
    "        # This flag is used to prevent interrupting\n",
    "        # braking for short distance moving\n",
    "        \n",
    "        self.braking = False\n",
    "        self.moving = False\n",
    "        # exclusive for stopping/crossing at intersection\n",
    "        self.stopping = False\n",
    "                   \n",
    "        self.processRef = None\n",
    "        self.env.process(self.process())\n",
    "  \n",
    "    def __str__(self):\n",
    "        return f\"v{self.id:d}\"\n",
    "                      \n",
    "    def trace(self, message):\n",
    "        print(f\"t={self.t0:5,.1f}s \"\n",
    "              f\"x={self.x0:5,.1f}m y={self.y0:5,.1f}m \"\n",
    "              f\"v={self.v():4.1f}m/s v{self.id:02d} \"\n",
    "              f\"on {self.road.shortName:s}[{self.direction[0]:s}]\", \n",
    "              message)\n",
    "   \n",
    "    def Δs(self, P=None):\n",
    "        if P is None:\n",
    "            P = self.startPoint\n",
    "        return math.sqrt((self.x0-P[0])**2+(self.y0-P[1])**2)\n",
    "        \n",
    "    def setV(self, v):\n",
    "        self.dx0, self.dy0 = v*self.cos𝜑, v*self.sin𝜑\n",
    "        \n",
    "    def v(self):\n",
    "        return math.sqrt(self.dx0**2+self.dy0**2)\n",
    "    \n",
    "    def Δv(self, other):\n",
    "        return math.sqrt((self.dx0-other.dx0)**2+(self.dy0-other.dy0)**2)\n",
    "    \n",
    "    def setA(self, a):\n",
    "        self.ddx0, self.ddy0 = a*self.cos𝜑, a*self.sin𝜑\n",
    "        \n",
    "    def a(self):\n",
    "        return self.ddx0/self.cos𝜑 if self.cos𝜑!=0 else self.ddy0/self.sin𝜑\n",
    "    \n",
    "    # compute distance to the car in front\n",
    "    # i.e. distance between the front bumpers of both\n",
    "    # vehicles minus the car length of the car in the front\n",
    "    def dist(self, v):\n",
    "        if v is None:\n",
    "            return math.inf\n",
    "        else:\n",
    "            return self.Δs((v.x0, v.y0)) - v.length\n",
    "    \n",
    "    # returns the vehicle that is on the same road in the same\n",
    "    # direction directly in front\n",
    "    def vehicleInFront(self):\n",
    "        other = None\n",
    "        for v in self.rec.vehicles:\n",
    "            if v is not self and v.road == self.road and \\\n",
    "                    v.direction == self.direction:\n",
    "                if self.direction is NORTH and v.y0>self.y0:\n",
    "                    if other is None or v.y0<other.y0: other = v                      \n",
    "                elif self.direction is SOUTH and v.y0<self.y0:\n",
    "                    if other is None or v.y0>other.y0: other = v                        \n",
    "                elif self.direction is EAST and v.x0>self.x0:\n",
    "                    if other is None or v.x0<other.x0: other = v                        \n",
    "                elif self.direction is WEST and v.x0<self.x0:\n",
    "                    if other is None or v.x0>other.x0: other = v                        \n",
    "        return other\n",
    "        \n",
    "    # updates (vectorised) position and speed\n",
    "    def update(self):\n",
    "        t = self.env.now\n",
    "        if t < self.t0 or not self.running:\n",
    "            return False\n",
    "\n",
    "        if t > self.t0:\n",
    "            Δt = t - self.t0\n",
    "            Δdx = self.ddx0*Δt\n",
    "            Δdy = self.ddy0*Δt\n",
    "            Δx = self.dx0*Δt + self.ddx0*Δt*Δt/2\n",
    "            Δy = self.dy0*Δt + self.ddy0*Δt*Δt/2\n",
    "            self.t0 = t \n",
    "            self.x0, self.y0 = self.x0+Δx, self.y0+Δy \n",
    "            self.dx0, self.dy0 = self.dx0+Δdx, self.dy0+Δdy\n",
    "            \n",
    "            # stop when leaving the area of the current network\n",
    "            if self.x0<0 or self.x0>self.rec.network.width or \\\n",
    "                self.y0<0 or self.y0>self.rec.network.height:\n",
    "                self.running = False\n",
    "        return True\n",
    "        \n",
    "    # defines the life cycle of a vehicle\n",
    "    def process(self):\n",
    "\n",
    "        # delay start to the given time t\n",
    "        if self.t0>self.env.now:\n",
    "            yield self.env.timeout(self.t0-self.env.now)\n",
    "\n",
    "        self.t0 = self.env.now\n",
    "        self.running = True\n",
    "        self.rec.startRecording(self)\n",
    "        \n",
    "        while self.update():\n",
    "\n",
    "            inFront = self.vehicleInFront()\n",
    "            \n",
    "            # if the car in front is slower and we are a bit too near on its heals...\n",
    "            if inFront is not None and \\\n",
    "                    not self.braking and not self.moving and \\\n",
    "                    inFront.v() < self.v() and \\\n",
    "                    self.dist(inFront)-self.length < \\\n",
    "                        self.nomore_tolerance*self.Δv(inFront):\n",
    "                yield from self.emergencyBraking(inFront.v())\n",
    "                if not isNearZero(self.v()-inFront.v()):\n",
    "                    # after emergency breaking adjust to the speed of the car in front...\n",
    "                    Δt = 1\n",
    "                    Δv = inFront.v()-self.v()\n",
    "                    yield from self.adjustVelocity(Δv, Δt)\n",
    "                continue \n",
    "            \n",
    "            if self.plan is not None and len(self.plan)>0:\n",
    "                \n",
    "                command = self.plan[0]\n",
    "                \n",
    "                # split action and position from command\n",
    "                split = command.find('@')\n",
    "                if 0 < split < len(command)-1:\n",
    "                    action = command[:split]\n",
    "                    position = command[split+1:] \n",
    "                else:\n",
    "                    action = command\n",
    "                    position = \"\"\n",
    "                \n",
    "                # split numeric parameters from action\n",
    "                split1 = action.find('(')\n",
    "                split2 = action.find(')')\n",
    "                if 0 < split1 < split2:\n",
    "                    params = action[split1+1:split2].split(',')\n",
    "                    pars = [ float(p) for p in params ]\n",
    "                    action = action[:split1]\n",
    "                else:\n",
    "                    pars = []\n",
    "\n",
    "                \n",
    "                if action == \"Acc\":\n",
    "                    ## test action Acc(a,t)\n",
    "                    self.setA(pars[0])\n",
    "                    self.update()\n",
    "                    yield self.env.timeout(pars[1])\n",
    "                    # action completed\n",
    "                    self.plan = self.plan[1:]\n",
    "                    continue\n",
    "                                \n",
    "                if action == \"Move\":\n",
    "                    ## test action Move(s)\n",
    "                    yield from self.move(pars[0])\n",
    "                    # action completed\n",
    "                    self.plan = self.plan[1:]\n",
    "                    continue\n",
    "                    \n",
    "                if action == \"Wait\":\n",
    "                    ## test action Acc(a,t)\n",
    "                    Δt = pars[0]\n",
    "                    self.update()\n",
    "                    # the car should be stationary\n",
    "                    self.setA(0)\n",
    "                    self.setV(0)\n",
    "                    yield self.env.timeout(Δt)\n",
    "                    self.update()\n",
    "                    # action completed\n",
    "                    self.plan = self.plan[1:]\n",
    "                    continue          \n",
    "                    \n",
    "                if action == \"Exit\":\n",
    "                    ## take vehicle out\n",
    "                    self.running = False\n",
    "                    # action completed\n",
    "                    self.plan = self.plan[1:]\n",
    "                    continue\n",
    "                    \n",
    "                if action == \"Stop\":\n",
    "                    if len(pars)>0:\n",
    "                        ## test action Stop(s)\n",
    "                        Δs = pars[0]\n",
    "                        yield from self.stop(Δs)\n",
    "                        # action completed\n",
    "                        self.plan = self.plan[1:]\n",
    "                        continue\n",
    "\n",
    "                    if self.traceCrossing:\n",
    "                        self.trace(\"action Stop\")\n",
    "                    intersection = self.road.getIntersection(position)\n",
    "                    if intersection is None:\n",
    "                        raise ValueError(f\"unknown position {position:s}\")\n",
    "        \n",
    "                    self.stopping = True\n",
    "                    self.stopQueueReq = intersection.request(self.direction)\n",
    "                    inFront = self.vehicleInFront()\n",
    "                    if inFront is None or inFront.positionInQueue is None or \\\n",
    "                        self.dist(inFront)>self.Δs(intersection.centrePoint()):\n",
    "                            self.positionInQueue = intersection.getQueueLength(self.direction)\n",
    "                    else:\n",
    "                        self.positionInQueue = inFront.positionInQueue+1\n",
    "                    self.spotQueueReq = intersection.getSpotRequest(self.direction, self.positionInQueue)\n",
    "                    stopPoint = intersection.stop(self.direction, self.positionInQueue)\n",
    "                    distance = self.Δs(stopPoint)\n",
    "                    if self.traceCrossing:\n",
    "                        self.trace(f\"stopping at position {self.positionInQueue:d}\")\n",
    "                    yield from self.stop(distance)\n",
    "                    if self.traceCrossing:\n",
    "                        self.trace(f\"stopped at position {self.positionInQueue:d}\")\n",
    "\n",
    "                    self.rec.record(self, \"queue\")\n",
    "                    # stopped at the end of the queue...\n",
    "                    yield self.spotQueueReq\n",
    "\n",
    "                    while self.positionInQueue>0:\n",
    "                        \n",
    "                        if self.traceCrossing:\n",
    "                            self.trace(f\"waiting for spot at position {self.positionInQueue-1:d}\")\n",
    "                        nextReq = intersection.getSpotRequest(self.direction, self.positionInQueue-1)\n",
    "                        yield nextReq\n",
    "                        if self.traceCrossing:\n",
    "                            self.trace(f\"moving up to position {self.positionInQueue-1:d}\")  \n",
    "                        stopPoint = intersection.stop(self.direction, self.positionInQueue-1)\n",
    "                        yield from self.move(self.Δs(stopPoint))\n",
    "                        if self.traceCrossing:\n",
    "                            self.trace(f\"moved up to position {self.positionInQueue-1:d}\")  \n",
    "                        intersection.releaseSpot(self.direction, self.positionInQueue, self.spotQueueReq)\n",
    "                        self.spotQueueReq = nextReq\n",
    "                        self.positionInQueue -= 1\n",
    "                        \n",
    "                    # vehicle is now at top of the queue\n",
    "                    if self.traceCrossing:\n",
    "                        self.trace(\"action Stop finished\")\n",
    "                    self.stopping = False    \n",
    "                    # action completed\n",
    "                    self.plan = self.plan[1:]\n",
    "                    continue\n",
    "                    \n",
    "                if action == 'X':  # cross the intersection\n",
    "                    if self.traceCrossing:\n",
    "                        self.trace(\"action X\")\n",
    "                    intersection = self.road.getIntersection(position)\n",
    "                    if intersection is None:\n",
    "                        raise ValueError(f\"unknown position {position:s}\")\n",
    "                    crossRoad = intersection.crossRoad(self.direction)\n",
    "                    crossingDist = 2*self.rec.network.LW+self.length\n",
    "                    crossingTime = self.timeRequired(crossingDist)\n",
    "                    \n",
    "                    if intersection.crossRoadIsThroughRoad(self.direction):\n",
    "                        if self.traceCrossing:\n",
    "                            self.trace(\"checking to cross\")\n",
    "                        Δt = min(self.nextCrossTraffic(intersection, self.direction, RIGHT),\n",
    "                                 self.nextCrossTraffic(intersection, self.direction, LEFT))\n",
    "                        if Δt>crossingTime+2:\n",
    "                            # Enough time for crossing\n",
    "                            if self.traceCrossing:\n",
    "                                self.trace(\"crossing\")\n",
    "                            yield from self.accelerateAndCruise(crossingTime)\n",
    "                            self.rec.record(self, \"dequeue\")\n",
    "                            intersection.releaseSpot(self.direction, 0, self.spotQueueReq)\n",
    "                            intersection.release(self.direction, self.stopQueueReq)\n",
    "                            if self.traceCrossing:\n",
    "                                self.trace(\"action X finished\")\n",
    "                            self.stopQueueReq = None\n",
    "                        \n",
    "                            # action completed\n",
    "                            self.plan = self.plan[1:]\n",
    "                            continue\n",
    "                            \n",
    "                        else:\n",
    "                            # wait for cross traffic to pass and try again...\n",
    "                            yield self.env.timeout(Δt+0.5)\n",
    "                            continue\n",
    "\n",
    "                                             \n",
    "            # cruise along with potentially slightly modified speed\n",
    "            elif self.vmax is not None:\n",
    "                # as long there is no vehicle in front or the vehicle in front\n",
    "                # is far enough ahead adjust to random speed around vmax\n",
    "                if inFront is None or \\\n",
    "                    self.time_tolerance*self.Δv(inFront) < self.dist(inFront):\n",
    "                    yield from self.adjustVelocity(self.vmax-self.v(), 5)\n",
    "                else:\n",
    "                    self.setA(0)\n",
    "                    yield self.env.timeout(self.rec.timeStep)\n",
    "            else:\n",
    "                self.setA(0)\n",
    "                yield self.env.timeout(self.rec.timeStep)\n",
    "\n",
    "                \n",
    "        self.rec.stopRecording(self)\n",
    "\n",
    "    # check if the vehicle is approaching the intersection\n",
    "    # from the given direction or if it hasn't yet crossed \n",
    "    # the intersection completely\n",
    "    def approaching(self, intersection, direction):\n",
    "        LW = self.rec.network.LW\n",
    "        if direction is SOUTH:\n",
    "            return self.y0+self.length>intersection.y-LW\n",
    "        elif direction is NORTH:\n",
    "            return self.y0-self.length<intersection.y+LW\n",
    "        elif direction is EAST:\n",
    "            return self.x0+self.length<intersection.x+LW\n",
    "        elif direction is WEST:\n",
    "            return self.x0-self.length>intersection.x-LW       \n",
    "       \n",
    "    # time required to cross a distance under max acceleration\n",
    "    # while not exceeding vmax\n",
    "    def timeRequired(self, dist):\n",
    "        v0 = self.v()\n",
    "        accTime = (self.vmax-v0) / self.a_max\n",
    "        accDist = v0*accTime + accTime**2*self.a_max/2\n",
    "        if accDist>dist:\n",
    "            # we never reach vmax over the distance\n",
    "            return math.sqrt(2*dist/self.a_max)\n",
    "        else:\n",
    "            # we accelerate to vmax and then continue\n",
    "            # cruising along with vmax.\n",
    "            return accTime+(dist-accDist)/self.vmax\n",
    "\n",
    "    # estimates the time that approaching vehicle takes to\n",
    "    # cross the intersection completely\n",
    "    def crossingTime(self, intersection, direction):\n",
    "        LW = self.rec.network.LW\n",
    "        if direction is SOUTH:\n",
    "            dist = self.y0+self.length-(intersection.y-LW)\n",
    "        elif direction is NORTH:\n",
    "            dist = (intersection.y+LW)-(self.y0-self.length)\n",
    "        elif direction is EAST:\n",
    "            dist = (intersection.x+LW)-(self.x0+self.length)\n",
    "        elif direction is WEST:\n",
    "            dist = self.x0-self.length-(intersection.x-LW)\n",
    "        return self.timeRequired(dist)\n",
    "    \n",
    "    # a vehicle from the incoming direction standing at \n",
    "    # an intersection and looking towards left or right,\n",
    "    # estimating the time until the next vehicle coming\n",
    "    # might cross its way\n",
    "    def nextCrossTraffic(self, intersection, \n",
    "                        incomingDirection, leftOrRight):\n",
    "        # self.trace(\"Waiting for Traffic from \"+leftOrRight)\n",
    "        crossroad = intersection.crossRoad(incomingDirection)\n",
    "        crossDir = opposite(look(leftOrRight, incomingDirection))\n",
    "        critTime = math.inf\n",
    "        for v in self.rec.vehicles:\n",
    "            if v.road==crossroad and \\\n",
    "                        v.direction==crossDir and \\\n",
    "                        v.approaching(intersection, crossDir):\n",
    "                time = v.crossingTime(intersection, crossDir)\n",
    "                if time<critTime:\n",
    "                    critTime = time\n",
    "        return critTime\n",
    "\n",
    "    # decelerate as fast as possible to v\n",
    "    def emergencyBraking(self, v):       \n",
    "        if self.traceBraking:\n",
    "            self.trace(f\"Braking from v={self.v():4.1f}m/s to {v:4.1f}m/s\")\n",
    "        self.rec.record(self, 'brake')\n",
    "        self.setA(self.a_brake)\n",
    "        v = max(0, min(v, self.v()-2))\n",
    "        Δv = v-self.v()\n",
    "        Δt = max(0.5, Δv/self.a())\n",
    "        self.setA(Δv/Δt)\n",
    "        yield self.env.timeout(Δt)\n",
    "                \n",
    "        self.update()\n",
    "        self.setA(0)\n",
    "        self.rec.record(self, 'brake end')\n",
    "        if self.traceBraking:\n",
    "            self.trace(f\"Braking end  v={self.v():4.1f}m/s\")\n",
    "\n",
    "    def stop(self, Δs):\n",
    "        self.update()\n",
    "        D = -2\n",
    "        A = 4\n",
    "        v0 = self.v()\n",
    "        sd, td = v0**2/(-2*D), -v0/D\n",
    "        # solve quadratic equation\n",
    "        a, b, c = A/2-A**2/(2*D), v0*(1-A/D), Δs-sd\n",
    "        if c<0:\n",
    "            A = -0.5*v0**2/Δs\n",
    "            Δt = 2*Δs/v0\n",
    "            self.setA(A)\n",
    "            yield self.env.timeout(Δt)\n",
    "            self.update()\n",
    "        else:\n",
    "            r = math.sqrt(b**2+4*a*c)  \n",
    "            x1 = (-b+r)/(2*a)\n",
    "            t1, t2 = x1, -A/D*x1  \n",
    "            # phase 1: accelerate\n",
    "            self.setA(A)\n",
    "            yield self.env.timeout(t1)\n",
    "            self.update()\n",
    "            # phase 2: decelerate\n",
    "            self.setA(D)\n",
    "            yield self.env.timeout(t2+td)\n",
    "            self.update()\n",
    "        self.setV(0)\n",
    "        self.setA(0)\n",
    "        \n",
    "    # move a short distance in a queue using only marginal \n",
    "    # acceleration and deceleration \n",
    "    def move(self, Δs):\n",
    "        self.update()\n",
    "        a = 2 # [m/s²]    \n",
    "        self.setA(a)\n",
    "        Δt = math.sqrt(Δs/a)\n",
    "        yield self.env.timeout(Δt)\n",
    "        self.update()\n",
    "        self.setA(-a)\n",
    "        yield self.env.timeout(Δt)\n",
    "        self.update()\n",
    "        self.setV(0)\n",
    "        self.setA(0)\n",
    "  \n",
    "    # change velocity by Δv over the period Δt\n",
    "    def adjustVelocity(self, Δv, Δt):\n",
    "        self.update()            \n",
    "        if self.traceAdjustVelocity:\n",
    "            self.trace(f\"Adjusting Velocity by Δv={Δv:4,.1f}m/s over {Δt:4,.1f}s\")\n",
    "        self.setA(Δv/Δt)\n",
    "        yield self.env.timeout(Δt)\n",
    "        self.update()\n",
    "        self.setA(0)\n",
    "        if self.traceAdjustVelocity:\n",
    "            self.trace(f\"Adjusted Velocity\")\n",
    "          \n",
    "    def continueAtSameSpeed(self, Δt):\n",
    "        self.update()\n",
    "        # don't change the current velocity\n",
    "        self.setA(0)\n",
    "        if self.traceCruising:\n",
    "            self.trace(f\"Cruising for {Δt:4,.1f}s\")\n",
    "        yield self.env.timeout(Δt)\n",
    "        self.update()\n",
    "        if self.traceCruising:\n",
    "            self.trace(f\"End Cruising\")\n",
    "\n",
    "    def accelerateAndCruise(self, crossingTime):\n",
    "        crossV = crossingTime*self.a_max\n",
    "        if  crossV > self.vmax:\n",
    "            accT = (self.vmax-self.v())/self.a_max\n",
    "            yield from self.adjustVelocity(self.vmax,  accT)\n",
    "            yield from self.continueAtSameSpeed(crossingTime-accT)\n",
    "        else:\n",
    "            yield from self.adjustVelocity(crossV, crossingTime)\n",
    "                            "
   ]
  },
  {
   "cell_type": "markdown",
   "id": "8c0e4ac8",
   "metadata": {},
   "source": [
    "# Data Handling"
   ]
  },
  {
   "cell_type": "markdown",
   "id": "a6b1bb64",
   "metadata": {},
   "source": [
    "[TOC](#Table-of-Contents)"
   ]
  },
  {
   "cell_type": "markdown",
   "id": "67ba238a",
   "metadata": {},
   "source": [
    "## Statistics"
   ]
  },
  {
   "cell_type": "code",
   "execution_count": 26,
   "id": "4d43a44d",
   "metadata": {
    "ExecuteTime": {
     "end_time": "2022-07-25T22:36:47.189333Z",
     "start_time": "2022-07-25T22:36:46.821371Z"
    }
   },
   "outputs": [],
   "source": [
    "from sklearn.linear_model import LinearRegression\n",
    "\n",
    "def regression(x, y, data=None):\n",
    "    if data is not None:\n",
    "        X = np.array(data[x].to_numpy()).reshape((-1,1)) \n",
    "        Y = list(data[y])\n",
    "    else:\n",
    "        X = np.array(x).reshape((-1,1))\n",
    "        Y = y\n",
    "    return LinearRegression().fit(X, Y)"
   ]
  },
  {
   "cell_type": "code",
   "execution_count": 27,
   "id": "82b38223",
   "metadata": {
    "ExecuteTime": {
     "end_time": "2022-07-25T22:36:47.192718Z",
     "start_time": "2022-07-25T22:36:47.190196Z"
    }
   },
   "outputs": [],
   "source": [
    "def countCurve(data, xmin, xmax):\n",
    "    \n",
    "    def double(X):\n",
    "        XX = []\n",
    "        for x in X:\n",
    "            XX.append(x)\n",
    "            XX.append(x)\n",
    "        return XX\n",
    "        \n",
    "    def steps(n):\n",
    "        YY = []\n",
    "        for y in range(n):\n",
    "            YY.append(y)\n",
    "            YY.append(y)\n",
    "        return YY\n",
    "    \n",
    "    X = [xmin] + double(list(data)) + [xmax]\n",
    "    Y = steps(len(X)//2)\n",
    "    return X, Y"
   ]
  },
  {
   "cell_type": "markdown",
   "id": "5e7d7087",
   "metadata": {},
   "source": [
    "## Recorder"
   ]
  },
  {
   "cell_type": "code",
   "execution_count": 28,
   "id": "dc67ad89",
   "metadata": {
    "ExecuteTime": {
     "end_time": "2022-07-25T22:36:47.225481Z",
     "start_time": "2022-07-25T22:36:47.193568Z"
    }
   },
   "outputs": [],
   "source": [
    "class Recorder:\n",
    "    \n",
    "    def __init__(self, startTime=0, stopTime=0, timeStep=1, seed=0):\n",
    "            \n",
    "        self.seed = seed\n",
    "        random.seed(seed)\n",
    "            \n",
    "        self.env = simpy.Environment()\n",
    "        self.network = None\n",
    "\n",
    "        self.startTime = startTime\n",
    "        self.stopTime = stopTime\n",
    "        self.timeStep = timeStep\n",
    "        \n",
    "        # list of all currently running vehicles\n",
    "        self.vehicles = []\n",
    "        \n",
    "        # list of all known vehicles (including those \n",
    "        # that haven't yet started and thosse that have already stopped\n",
    "        self.allVehicles = [] \n",
    "        \n",
    "        self.running = True\n",
    "    \n",
    "        cols=['t', 'x', 'y', 's', 'v', 'a',\n",
    "              'rd', 'dir', 'id', 'col', 'event', 'q', 'w']\n",
    "        self.data = pd.DataFrame(columns=cols)\n",
    "        \n",
    "    def register(self, vehicle):\n",
    "        self.allVehicles.append(vehicle)\n",
    "        return len(self.allVehicles)\n",
    "        \n",
    "    # runs the simulation\n",
    "    def run(self):\n",
    "        self.env.process(self.process())\n",
    "        self.env.run(self.stopTime+self.timeStep)\n",
    "    \n",
    "    def process(self):\n",
    "        yield self.env.timeout(self.startTime-self.env.now)\n",
    "        while self.env.now <= self.stopTime:\n",
    "            if self.running:\n",
    "                self.record()     \n",
    "            yield self.env.timeout(self.timeStep)\n",
    "            \n",
    "    def startRecording(self, v):\n",
    "        self.vehicles.append(v)\n",
    "        self.record(vehicle=v, event='start')\n",
    "        \n",
    "    def stopRecording(self, v):\n",
    "        self.record(vehicle=v, event='end')\n",
    "        self.vehicles.remove(v)\n",
    "        \n",
    "    def record(self, vehicle=None, event='timer'):\n",
    "        if vehicle is not None:\n",
    "            v = vehicle\n",
    "            if v.update() or event!='timer':\n",
    "                ix = len(self.data)\n",
    "                ql = v.positionInQueue if event=='queue' else 0\n",
    "                if event=='dequeue':\n",
    "                    d = self.data[self.data.event=='queue']\n",
    "                    w = self.env.now - d[d.id==v.id].t.max()\n",
    "                elif event=='end':\n",
    "                    d = self.data[self.data.event=='start']\n",
    "                    w = self.env.now - d[d.id==v.id].t.max()\n",
    "                else:\n",
    "                    w = 0\n",
    "                self.data.loc[ix]=[self.env.now, \\\n",
    "                                   round(v.x0,2), round(v.y0,2), \\\n",
    "                                   round(v.Δs(v.startPoint),2), \\\n",
    "                                   round(v.v(),2), round(v.a(),2), \\\n",
    "                                   v.road.name, v.direction, \\\n",
    "                                   v.id, v.color, event, ql, w]\n",
    "        else:\n",
    "            for vehicle in self.vehicles:\n",
    "                self.record(vehicle, event)\n",
    "                \n",
    "    def registerRoad(self, road):\n",
    "        ix = len(self.data)\n",
    "        if road.direction is NORTH_SOUTH:\n",
    "            x, y = road.x, road.length\n",
    "        else:\n",
    "            x, y = road.length, road.y\n",
    "        self.data.loc[ix]=[0, x, y, 0, 0, 0, \\\n",
    "                            road.name, road.direction, \\\n",
    "                            0, 0, 'road', 0, 0]   \n",
    " \n",
    "    def registerIntersection(self, intersection):\n",
    "        ix = len(self.data)\n",
    "        self.data.loc[ix]=[0, \\\n",
    "                            intersection.x, intersection.y, \\\n",
    "                            0, 0, 0, \\\n",
    "                            intersection.name, '', \\\n",
    "                            0, 0, 'X', 0, 0]   \n",
    "\n",
    "    def getData(self):\n",
    "        return self.data.copy(deep=True)\n",
    "    \n",
    "    def getEvents(self):\n",
    "        return self.data[self.data.event!='timer'].copy(deep=True)\n",
    "    \n",
    "    def selectData(self, roads, directions):\n",
    "        data = self.data\n",
    "        if roads is None:\n",
    "            roads = list(data.rd.unique())\n",
    "        else:\n",
    "            if type(roads) is str:\n",
    "                roads = [ roads ]\n",
    "            rds = list(data.rd.unique()) \n",
    "            roads = [ r for r in roads if r in rds ]\n",
    "        data = data[data.rd.isin(roads)]\n",
    "        \n",
    "        if directions is None:\n",
    "            directions = list(data.dir.unique())\n",
    "        else:\n",
    "            if type(directions) is str:\n",
    "                directions = [ directions ]\n",
    "            dirs = list(data.dir.unique()) \n",
    "            directions = [ d for d in directions if d in dirs ]\n",
    "        data = data[data.dir.isin(directions)]\n",
    "        return roads, directions, data    \n",
    "\n",
    "    def getRoadLength(self, road):\n",
    "        data = self.data[self.data.event=='road']\n",
    "        data = data[data.rd==road]\n",
    "        direction = list(data.dir.unique())[0]\n",
    "        if direction==NORTH_SOUTH:\n",
    "            return data.y.max()\n",
    "        else:\n",
    "            return data.x.max()\n",
    "\n",
    "    def maxQueueLength(self, roads=None, directions=None):\n",
    "        _, _, data = self.selectData(roads, directions)\n",
    "        data = data[data.event=='queue']\n",
    "        return data.q.max() if len(data)>0 else 0\n",
    "\n",
    "    def avgQueueLength(self, roads=None, directions=None):\n",
    "        _, _, data = self.selectData(roads, directions)\n",
    "        data = data[data.event=='queue']\n",
    "        return round(data.q.mean(),2) if len(data)>0 else 0\n",
    "    \n",
    "    def maxWaitTime(self, roads=None, directions=None):\n",
    "        _, _, data = self.selectData(roads, directions)\n",
    "        data = data[data.event=='dequeue']\n",
    "        return round(data.w.max(),2) if len(data)>0 else 0\n",
    "\n",
    "    def avgWaitTime(self, roads=None, directions=None):\n",
    "        _, _, data = self.selectData(roads, directions)\n",
    "        data = data[data.event=='dequeue']\n",
    "        return round(data.w.mean(),2) if len(data)>0 else 0\n",
    "    \n",
    "    def maxTravelTime(self, roads=None, directions=None):\n",
    "        _, _, data = self.selectData(roads, directions)\n",
    "        data = data[data.event=='end']\n",
    "        return round(data.w.max(),2) if len(data)>0 else 0\n",
    "    \n",
    "    def avgTravelTime(self, roads=None, directions=None):\n",
    "        _, _, data = self.selectData(roads, directions)\n",
    "        data = data[data.event=='end']\n",
    "        return round(data.w.mean(),2) if len(data)>0 else 0\n",
    "        \n",
    "    ## computes the average speed in km/h of cars travelling\n",
    "    ## on the given road in the given direction\n",
    "    def avgSpeed(self, roads=None, directions=None):\n",
    "        roads, _, _ = self.selectData(roads, directions)\n",
    "        if len(roads)>1:\n",
    "            raise ValueError(\"avgSpeed undefined for multiple roads\")\n",
    "        t = self.avgTravelTime(roads=roads, directions=directions)\n",
    "        return round(3.6*self.getRoadLength(roads[0])/t, 2)\n",
    "                     \n",
    "    ## computes traffic flow in vehicles/h for a given road\n",
    "    ## and direction based on vehicles reaching the end of the road\n",
    "    def flow(self, roads=None, directions=None):\n",
    "        roads, directions, data = self.selectData(roads, directions)\n",
    "        if len(roads)>1 or len(directions)>1:\n",
    "            raise ValueError(\"flow undefined\")\n",
    "        df = data[data.event=='end']\n",
    "        if len(df)<=1:\n",
    "            return 0\n",
    "        f = (len(df)-1)/(df.t.max()-df.t.min())*3600\n",
    "        return round(f, 2)\n",
    "\n",
    "    ## computes traffic density in vehicles/km for a given \n",
    "    ## road and direction at a given moment in time. \n",
    "    ## When no time is specified it returns a\n",
    "    ## the average traffic density over time.\n",
    "    def density(self, roads=None, directions=None, \n",
    "                time=None, plot=False):\n",
    "        roads, directions, data = self.selectData(roads, directions)\n",
    "        if len(roads)>1 or len(directions)>1:\n",
    "            print(\"not yet implemented\")\n",
    "            return None\n",
    "        events = data[(data.event=='start') | (data.event=='end')]\n",
    "        timerEvents = data[data.event=='timer']\n",
    "        times = timerEvents.t.unique()\n",
    "        if len(times)<1:\n",
    "            return 0\n",
    "        roadLength = self.getRoadLength(roads[0])\n",
    "\n",
    "        if time is None:\n",
    "            x, y = [], []\n",
    "            for t in list(events.t.unique()):\n",
    "                timerEvents = timerEvents[timerEvents.t>=t]\n",
    "                timer = timerEvents.t.min()\n",
    "                x.append(t)\n",
    "                count = len(timerEvents[timerEvents.t==timer])\n",
    "                y.append(count*1000/roadLength)\n",
    "            μ = round(sum(y)/len(y),2)\n",
    "            if plot:\n",
    "                plt.figure(figsize=(5, 3), dpi=120)      \n",
    "                xmin = self.startTime\n",
    "                xmax = self.stopTime\n",
    "                plt.xlim((xmin, xmax))\n",
    "                plt.plot(x, y, 'bo', ms=2)\n",
    "                plt.xlabel('Time [s]')\n",
    "                plt.ylabel('Traffic Density [veh/km]')\n",
    "                plt.title(roads[0]+\" \"+directions[0][0]+\"-bound\")\n",
    "                plt.xlim((self.startTime, self.stopTime))\n",
    "                ylim = plt.ylim()\n",
    "                plt.ylim((0, ylim[1]))\n",
    "                plt.axhline(y=μ, lw=1, ls=':', color='red')\n",
    "                model = regression(x, y) \n",
    "                a = model.coef_[0]\n",
    "                b = model.intercept_ \n",
    "                X0, Y0 = xmin, a*xmin+b\n",
    "                X1, Y1 = xmax, a*xmax+b\n",
    "                plt.plot([X0, X1], [Y0, Y1], lw=2, color='red')\n",
    "                plt.grid(True)\n",
    "                plt.show()\n",
    "            else:\n",
    "                return μ\n",
    "        else:\n",
    "            timerEvents = timerEvents[timerEvents.t>=time]\n",
    "            timer = timerEvents.t.min()\n",
    "            count = len(timerEvents[timerEvents.t==timer])\n",
    "            return round(count*1000/roadLength, 2)\n",
    "        \n",
    "    def plot(self, x, y, ax=None, col=0, row=-1,\n",
    "             vehicles=None, roads=None, directions=None,\n",
    "             style='', lw=1, linmodel=False,\n",
    "             x0=None, x1=None, y0=None, y1=None, fillColor=None, \n",
    "             xmin=None, xmax=None, ymin=None, ymax=None):\n",
    "        \n",
    "        columns = ['t', 's', 'v', 'a', 'q', 'w', 'T', 'N']\n",
    "        labels =  ['Time [s]', \n",
    "                   'Distance [m]', \n",
    "                   'Velocity [m/s]', \n",
    "                   'Acceleration [m/s²]',\n",
    "                   'Queue Length',\n",
    "                   'Waiting Time [s]',\n",
    "                   'Travel Time [s]',\n",
    "                   'In/Out Count'\n",
    "                  ]\n",
    "        try:\n",
    "            xindex = columns.index(x)\n",
    "            yindex = columns.index(y)\n",
    "        except ValueError: \n",
    "            print(f\"Supports only plots of 't', 's', 'v', 'a', 'q', 'w', 'T', 'N'\")\n",
    "            return\n",
    "\n",
    "        xcolix = list(self.data.columns).index(x)\n",
    "        ycol = 'w' if y=='T' else 't' if y=='N' else y\n",
    "        ycolix = list(self.data.columns).index(ycol)\n",
    "        \n",
    "        roads, directions, data = self.selectData(roads, directions)\n",
    "        \n",
    "        if x=='t':\n",
    "            if xmin is None:\n",
    "                xmin = 0 # self.data[self.data.event=='timer'].t.min()\n",
    "            if xmax is None:\n",
    "                xmax = self.data[self.data.event=='timer'].t.max()\n",
    " \n",
    "        if y=='s':\n",
    "            if ymin is None:\n",
    "                ymin = 0\n",
    "            if ymax is None:\n",
    "                if len(roads)==1:\n",
    "                     ymax = self.getRoadLength(roads[0])\n",
    "                \n",
    "        if y=='N':\n",
    "            if ymin is None:\n",
    "                ymin = 0\n",
    "            if ymax is None:  \n",
    "                ymax = len(data[data.event=='start'])\n",
    "            \n",
    "        if ax is None:\n",
    "            fig = plt.figure(figsize=(5, 3), dpi=120)\n",
    "            if len(roads)==1 and len(directions)==1:\n",
    "                plt.title(roads[0]+\" \"+directions[0][0]+\"-bound\")\n",
    "            ax = fig.gca()\n",
    "            multiplot = False\n",
    "        else:\n",
    "            multiplot = True\n",
    "            \n",
    "        if xmin is not None and xmax is not None:\n",
    "            ax.set_xlim(xmin, xmax)\n",
    "        if ymin is not None and ymax is not None:\n",
    "            ax.set_ylim(ymin, ymax)\n",
    "            \n",
    "        if len(roads)==1 and len(directions)==1:\n",
    "            if y=='s':\n",
    "                road = self.data[self.data.event=='road']\n",
    "                road = road[road.rd==roads[0]]\n",
    "                direction = list(road.dir.unique())[0]\n",
    "                iX = self.data[self.data.event=='X']\n",
    "                if direction==NORTH_SOUTH:\n",
    "                    iX = iX[iX.x==road.x.max()]\n",
    "                    crossRoads = list(iX.y)\n",
    "                    if directions[0]==SOUTH:\n",
    "                        length = road.y.max()\n",
    "                        crossRoads = [ length-xr for xr in crossRoads]\n",
    "                else:\n",
    "                    iX = iX[iX.y==road.y.max()]\n",
    "                    crossRoads = list(iX.x)\n",
    "                    if directions[0]==WEST:\n",
    "                        length = road.x.max()\n",
    "                        crossRoads = [ length-xr for xr in crossRoads]\n",
    "                iXnames = list(iX.rd)\n",
    "                # draw cross roads\n",
    "                for i in range(len(iXnames)):\n",
    "                    ax.axhline(y=crossRoads[i], ls='--', c='black')\n",
    "\n",
    "        # plots across all vehicles                    \n",
    "        if y=='q' or y=='w' or y=='T':\n",
    "            if y=='q': \n",
    "                data = data[data.event=='queue']\n",
    "            elif y=='w': \n",
    "                data = data[data.event=='dequeue']\n",
    "            elif y=='T': \n",
    "                data = data[data.event=='end']\n",
    "                y = 'w'\n",
    "            ax.plot(x, y, style, lw=lw, data=data)\n",
    "            if row==-1:\n",
    "                ax.set_xlabel(labels[xindex])\n",
    "            if col==0:\n",
    "                ax.set_ylabel(labels[yindex])\n",
    "            if len(data)>2:\n",
    "                Y = data[y].mean()\n",
    "                ax.plot([xmin, xmax], [Y, Y], lw=1, ls=':', color='red')\n",
    "            if linmodel and len(data)>5:\n",
    "                model = regression(x, y, data) \n",
    "                a = model.coef_[0]\n",
    "                b = model.intercept_ \n",
    "                if a*xmin+b<0:\n",
    "                    X0, Y0 =  -b/a, 0\n",
    "                else:\n",
    "                    X0, Y0 = xmin, a*xmin+b\n",
    "                X1, Y1 = xmax, a*xmax+b\n",
    "                ax.plot([X0, X1], [Y0, Y1], lw=2, color='red')\n",
    "                \n",
    "        # generate count curves for arrival [I] and departure [O]\n",
    "        elif y=='N':\n",
    "            t = data[data.event=='start'].t\n",
    "            XI, YI = countCurve(t, xmin, xmax)\n",
    "            ax.plot(XI, YI, lw=1, ls='-', color='blue')\n",
    "            t = data[data.event=='end'].t\n",
    "            XO, YO = countCurve(t, xmin, xmax)\n",
    "            ax.plot(XO, YO, lw=1, ls='-', color='red')\n",
    "            if row==-1:\n",
    "                ax.set_xlabel(labels[xindex])\n",
    "            if col==0:\n",
    "                ax.set_ylabel(labels[yindex])\n",
    "                \n",
    "        else: # plots on a per vehicle basis\n",
    "            if vehicles is None:\n",
    "                vehicles = list(data.id.unique())\n",
    "            \n",
    "            # if there are many lines to be drawn, use thin lines\n",
    "            if len(vehicles)>50:\n",
    "                lw = 0.5*lw\n",
    "            \n",
    "            for id in vehicles:\n",
    "                df = data[data.id==id]\n",
    "                colors = list(df.col.unique())\n",
    "                if len(colors)==1:\n",
    "                    ax.plot(x, y, style, lw=lw, data=df, c=colors[0])\n",
    "                else:\n",
    "                    ax.plot(x, y, style, lw=lw, data=df)\n",
    "                if row==-1:\n",
    "                    ax.set_xlabel(labels[xindex])\n",
    "                if col==0:\n",
    "                    ax.set_ylabel(labels[yindex])\n",
    "           \n",
    "                # use short black horizontal line to indicate queueing\n",
    "                dq = df[df.event=='queue']\n",
    "                for i in range(len(dq)):\n",
    "                    X = dq.iloc[i, xcolix]\n",
    "                    Y = dq.iloc[i, ycolix]\n",
    "                    ax.plot([X], [Y], marker='_', mec='k', fillstyle='none')\n",
    "                # use small red circle to indicate emergency braking\n",
    "                dc = df[df.event=='brake']\n",
    "                for i in range(len(dc)):\n",
    "                    X = dc.iloc[i, xcolix]\n",
    "                    Y = dc.iloc[i, ycolix]\n",
    "                    ax.plot([X], [Y], 'ro')               \n",
    "                db = df[df.event=='brake end']\n",
    "                for i in range(len(db)):\n",
    "                    X = db.iloc[i, xcolix]\n",
    "                    Y = db.iloc[i, ycolix]\n",
    "                    ax.plot([X], [Y], marker='o', mec='r', fillstyle='none')\n",
    "                \n",
    "        # fill area with background color\n",
    "        if fillColor is not None:\n",
    "            if x0 is None:\n",
    "                x0=self.data[x].min()\n",
    "            if x1 is None:\n",
    "                x1=self.data[x].max()\n",
    "            if y0 is None:\n",
    "                y0=self.data[y].min()\n",
    "            if y1 is None:\n",
    "                y1=self.data[y].max()\n",
    "            ax.fill_between( [x0, x1], [y0, y0], [y1, y1], color=fillColor)\n",
    "            \n",
    "        ax.grid(True)\n",
    "        if not multiplot:\n",
    "            plt.show()"
   ]
  },
  {
   "cell_type": "markdown",
   "id": "0778b782",
   "metadata": {},
   "source": [
    "## Backup and Restore"
   ]
  },
  {
   "cell_type": "code",
   "execution_count": 29,
   "id": "d2ec3533",
   "metadata": {
    "ExecuteTime": {
     "end_time": "2022-07-25T22:36:47.229363Z",
     "start_time": "2022-07-25T22:36:47.226614Z"
    }
   },
   "outputs": [],
   "source": [
    "def sameData(r1, r2):\n",
    "    try:\n",
    "        return all(r1.getData() == r2.getData())\n",
    "    except ValueError:\n",
    "        return False"
   ]
  },
  {
   "cell_type": "code",
   "execution_count": 30,
   "id": "ed102c7f",
   "metadata": {
    "ExecuteTime": {
     "end_time": "2022-07-25T22:36:47.233712Z",
     "start_time": "2022-07-25T22:36:47.230155Z"
    }
   },
   "outputs": [],
   "source": [
    "def saveRecs(recs, filename):\n",
    "    \n",
    "    def combine(recs):\n",
    "        dfs = []\n",
    "        for d in range(len(recs)):\n",
    "            seed = recs[d].seed\n",
    "            df = recs[d].getData()\n",
    "            df['seed']=[seed]*len(df)\n",
    "            dfs.append(df)\n",
    "        DF = pd.concat(dfs)\n",
    "        DF = DF.reset_index(drop=True)\n",
    "        return DF\n",
    "\n",
    "    combine(recs).to_csv(filename, index=False)\n",
    "    \n",
    "def loadRecs(filename):\n",
    "    \n",
    "    def split(DF):\n",
    "        cols = DF.columns.tolist()[1:]\n",
    "        seeds = DF.seed.unique().tolist()\n",
    "        res = []\n",
    "        for seed in seeds:\n",
    "            df = DF[DF.seed==seed].copy(deep=True)\n",
    "            df = df.drop(columns=['seed'])\n",
    "            df = df.reset_index(drop=True)\n",
    "            r = Recorder(seed=seed)\n",
    "            r.data = df\n",
    "            res.append(r)\n",
    "        return res   \n",
    "    \n",
    "    return split(pd.read_csv(filename))  "
   ]
  },
  {
   "cell_type": "markdown",
   "id": "be4c3444",
   "metadata": {},
   "source": [
    "## Advanced Analysis"
   ]
  },
  {
   "cell_type": "code",
   "execution_count": 31,
   "id": "d77267b9",
   "metadata": {
    "ExecuteTime": {
     "end_time": "2022-07-25T22:36:47.239344Z",
     "start_time": "2022-07-25T22:36:47.234619Z"
    }
   },
   "outputs": [],
   "source": [
    "def maxQueueLength(R, roads=None, directions=None):\n",
    "    if type(R) is list: return [ maxQueueLength(r, roads, directions) for r in R ]\n",
    "    else: return R.maxQueueLength(roads, directions)\n",
    "    \n",
    "def avgQueueLength(R, roads=None, directions=None):\n",
    "    if type(R) is list: return [ avgQueueLength(r, roads, directions) for r in R ]\n",
    "    else: return R.avgQueueLength(roads, directions)\n",
    "\n",
    "def maxWaitTime(R, roads=None, directions=None):\n",
    "    if type(R) is list: return [ maxWaitTime(r, roads, directions) for r in R ]\n",
    "    else: return R.maxWaitTime(roads, directions)\n",
    "\n",
    "def avgWaitTime(R, roads=None, directions=None):\n",
    "    if type(R) is list: return [ avgWaitTime(r, roads, directions) for r in R ]\n",
    "    else: return R.avgWaitTime(roads, directions)\n",
    "\n",
    "def maxTravelTime(R, roads=None, directions=None):\n",
    "    if type(R) is list: return [ maxTravelTime(r, roads, directions) for r in R ]\n",
    "    else: return R.maxTravelTime(roads, directions)\n",
    "    \n",
    "def avgTravelTime(R, roads=None, directions=None):\n",
    "    if type(R) is list: return [ avgTravelTime(r, roads, directions) for r in R ]\n",
    "    else: return R.avgTravelTime(roads, directions)\n",
    "\n",
    "def avgSpeed(R, roads=None, directions=None):\n",
    "    if type(R) is list: return [ avgSpeed(r, roads, directions) for r in R ]\n",
    "    else: return R.avgSpeed(roads, directions)\n",
    "\n",
    "def flow(R, roads=None, directions=None):\n",
    "    if type(R) is list: return [ flow(r, roads, directions) for r in R ]\n",
    "    else: return R.flow(roads, directions)"
   ]
  },
  {
   "cell_type": "markdown",
   "id": "90870e97",
   "metadata": {},
   "source": [
    "# Simulation"
   ]
  },
  {
   "cell_type": "markdown",
   "id": "e711985a",
   "metadata": {},
   "source": [
    "[TOC](#Table-of-Contents)"
   ]
  },
  {
   "cell_type": "markdown",
   "id": "fdf2a2f8",
   "metadata": {},
   "source": [
    "## Simulation Through Road "
   ]
  },
  {
   "cell_type": "markdown",
   "id": "97035324",
   "metadata": {},
   "source": [
    "[TOC](#Table-of-Contents)"
   ]
  },
  {
   "cell_type": "code",
   "execution_count": 32,
   "id": "c0074962",
   "metadata": {
    "ExecuteTime": {
     "end_time": "2022-07-25T22:36:47.254525Z",
     "start_time": "2022-07-25T22:36:47.248960Z"
    }
   },
   "outputs": [],
   "source": [
    "def CrossingThroughRoad(Tmax,  seed = 21176671, # set default seed to student no in case it is forgotten at any function call\n",
    "                        VMAXmain=20, VMAXcross=15, \n",
    "                        IATmainN=4, IATmainS=4, IATcross=10, loc=2):\n",
    "           \n",
    "    rec = Recorder(0, Tmax, 0.5, seed=seed)\n",
    "\n",
    "    network = RoadNetwork(\"Simple Crossing\", 1000, 1000, rec)    # distance from village school is 1km \n",
    "    MSt = network.addRoad(\"Main St\",  \"MSt\", NORTH_SOUTH, 0.7)  # set to 0.7 to get the correct distances between village, main road and school \n",
    "    RoadSegment(MSt, None, None)\n",
    "    CRd = network.addRoad(\"Cross Rd\", \"CRd\", EAST_WEST, 0.5)  # have local road cross main road right in the middle \n",
    "    RoadSegment(CRd, None, MSt)\n",
    "    RoadSegment(CRd, MSt, None)\n",
    "    \n",
    "    #displayMap(network) # don't always need to run this as it takes a lot longer with it \n",
    "    \n",
    "    # generate seed values for the different strands\n",
    "    seeds = random.sample(range(1000), k=5)\n",
    "\n",
    "    random.seed(seeds[0])\n",
    "    iats = [ loc + random.expovariate(1/(IATmainS-loc)) \n",
    "                for i in range(int(Tmax/IATmainS)) ]    \n",
    "    t = 0\n",
    "    for Δt in iats:\n",
    "        vmax = VMAXmain\n",
    "        t = round(t+Δt,2)\n",
    "        v = Vehicle(rec, MSt, SOUTH, t0=t, v=vmax, \n",
    "                    vmax=vmax, color='black')\n",
    "\n",
    "    random.seed(seeds[1])\n",
    "    iats = [ loc + random.expovariate(1/(IATmainN-loc)) \n",
    "                for i in range(int(Tmax/IATmainN)) ]\n",
    "    t=0\n",
    "    for Δt in iats:\n",
    "        vmax = VMAXmain\n",
    "        t =round(t+Δt,2)\n",
    "        v = Vehicle(rec, MSt, NORTH, t0=t, v=vmax, \n",
    "                    vmax=vmax, color='orange')\n",
    "\n",
    "    ## Generate Cross Traffic\n",
    "    random.seed(seeds[2])\n",
    "    iats = [ loc + random.expovariate(1/(IATcross-loc)) \n",
    "                for i in range(int(Tmax/IATcross)) ] \n",
    "    t = 0\n",
    "    for Δt in iats:\n",
    "        vmax = VMAXcross\n",
    "        t =round(t+Δt,2)\n",
    "        v = Vehicle(rec, CRd, EAST, t0=t, v=vmax, vmax=vmax, \n",
    "                    color='red', plan=['Stop@MSt', 'X@MSt'])\n",
    "        # v.traceEvents = True\n",
    "        # v.traceCrossing = True\n",
    "        # v.traceInterrupt = True\n",
    "        # v.traceAdjustVelocity = True\n",
    "        # v.traceCruising = True\n",
    "        \n",
    "##### We can ignore the westbound traffic on the cross road as we are not interested in this for our simulation\n",
    "#    random.seed(seeds[3])\n",
    "#    iats = [ loc + random.expovariate(1/(IATcross-loc)) \n",
    "#                for i in range(int(Tmax/IATcross)) ] \n",
    "#    t=0\n",
    "#    for Δt in iats:\n",
    "#        vmax = VMAXcross\n",
    "#        t =round(t+Δt,2)\n",
    "#        v = Vehicle(rec, CRd, WEST, t0=t, v=vmax, vmax=vmax, \n",
    "#                    color='blue', plan=['Stop@MSt', 'X@MSt'])\n",
    "        # v.traceCrossing = True\n",
    "\n",
    "    random.seed(seeds[4])\n",
    "    rec.run()\n",
    "        \n",
    "    return rec"
   ]
  },
  {
   "cell_type": "markdown",
   "id": "4da7f78a",
   "metadata": {},
   "source": [
    "### Inital verification - 200veh/h"
   ]
  },
  {
   "cell_type": "code",
   "execution_count": 33,
   "id": "12b28cda",
   "metadata": {},
   "outputs": [],
   "source": [
    "my_seed = random.seed(21176671)\n",
    "IATmainN = 30   # 3600/120veh/h = 18 IAT\n",
    "IATmainS = 18   # 3600/200veh/h = 18 IAT\n",
    "IATcross = 36  # 3600/100veh/h = 36 IAT, 100 veh/h gives 50 for the 30 minute school run \n",
    "# for the speed values, we need to divide by 3.6 to convert from m/s to km/h\n",
    "VMAXmain = 100/3.6   \n",
    "VMAXcross = 50/3.6\n",
    "rec1 = CrossingThroughRoad(1800, \n",
    "                           seed = my_seed, \n",
    "                           VMAXmain=VMAXmain, \n",
    "                           VMAXcross=VMAXcross, \n",
    "                           IATmainN=IATmainN, \n",
    "                           IATmainS=IATmainS, \n",
    "                           IATcross=IATcross)"
   ]
  },
  {
   "cell_type": "markdown",
   "id": "c8a57326",
   "metadata": {},
   "source": [
    "Check the crossing behaviour in the east bound direction"
   ]
  },
  {
   "cell_type": "code",
   "execution_count": 34,
   "id": "b390e67f",
   "metadata": {},
   "outputs": [
    {
     "data": {
      "image/png": "[encoded data removed]",
      "text/plain": [
       "<Figure size 600x360 with 1 Axes>"
      ]
     },
     "metadata": {
      "needs_background": "light"
     },
     "output_type": "display_data"
    }
   ],
   "source": [
    "rec1.plot('t', 's', roads='Cross Rd', directions='EAST')"
   ]
  },
  {
   "cell_type": "code",
   "execution_count": 35,
   "id": "28011a07",
   "metadata": {},
   "outputs": [
    {
     "data": {
      "image/png": "[encoded data removed]",
      "text/plain": [
       "<Figure size 600x360 with 1 Axes>"
      ]
     },
     "metadata": {
      "needs_background": "light"
     },
     "output_type": "display_data"
    }
   ],
   "source": [
    "rec1.plot('t', 'N', roads='Cross Rd', directions='EAST')"
   ]
  },
  {
   "cell_type": "code",
   "execution_count": 36,
   "id": "103eee2d",
   "metadata": {},
   "outputs": [
    {
     "data": {
      "image/png": "[encoded data removed]",
      "text/plain": [
       "<Figure size 600x360 with 1 Axes>"
      ]
     },
     "metadata": {
      "needs_background": "light"
     },
     "output_type": "display_data"
    }
   ],
   "source": [
    "rec1.plot('t', 'q', roads='Cross Rd', directions='EAST')"
   ]
  },
  {
   "cell_type": "code",
   "execution_count": 37,
   "id": "40d2c6d8",
   "metadata": {},
   "outputs": [
    {
     "data": {
      "image/png": "[encoded data removed]",
      "text/plain": [
       "<Figure size 600x360 with 1 Axes>"
      ]
     },
     "metadata": {
      "needs_background": "light"
     },
     "output_type": "display_data"
    }
   ],
   "source": [
    "rec1.plot('t', 'w', roads='Cross Rd', directions='EAST')"
   ]
  },
  {
   "cell_type": "code",
   "execution_count": 38,
   "id": "668d2470",
   "metadata": {},
   "outputs": [
    {
     "data": {
      "image/png": "[encoded data removed]",
      "text/plain": [
       "<Figure size 600x360 with 1 Axes>"
      ]
     },
     "metadata": {
      "needs_background": "light"
     },
     "output_type": "display_data"
    }
   ],
   "source": [
    "rec1.plot('t', 's', roads='Main St', directions='NORTH')"
   ]
  },
  {
   "cell_type": "code",
   "execution_count": 39,
   "id": "b41cf65f",
   "metadata": {},
   "outputs": [
    {
     "data": {
      "image/png": "[encoded data removed]",
      "text/plain": [
       "<Figure size 600x360 with 1 Axes>"
      ]
     },
     "metadata": {
      "needs_background": "light"
     },
     "output_type": "display_data"
    }
   ],
   "source": [
    "rec1.plot('t', 's', roads='Main St', directions='SOUTH')"
   ]
  },
  {
   "cell_type": "code",
   "execution_count": 40,
   "id": "c0b4ae7a",
   "metadata": {},
   "outputs": [
    {
     "data": {
      "image/png": "[encoded data removed]",
      "text/plain": [
       "<Figure size 600x360 with 1 Axes>"
      ]
     },
     "metadata": {
      "needs_background": "light"
     },
     "output_type": "display_data"
    }
   ],
   "source": [
    "rec1.density(roads='Main St', directions='NORTH', plot=True)"
   ]
  },
  {
   "cell_type": "code",
   "execution_count": 41,
   "id": "088d6d6d",
   "metadata": {},
   "outputs": [
    {
     "data": {
      "image/png": "[encoded data removed]",
      "text/plain": [
       "<Figure size 600x360 with 1 Axes>"
      ]
     },
     "metadata": {
      "needs_background": "light"
     },
     "output_type": "display_data"
    }
   ],
   "source": [
    "rec1.density(roads='Cross Rd', directions='EAST', plot=True)"
   ]
  },
  {
   "cell_type": "code",
   "execution_count": 42,
   "id": "874a301d",
   "metadata": {},
   "outputs": [
    {
     "data": {
      "text/plain": [
       "2.98"
      ]
     },
     "execution_count": 42,
     "metadata": {},
     "output_type": "execute_result"
    }
   ],
   "source": [
    "rec1.density(roads='Cross Rd', directions='EAST')"
   ]
  },
  {
   "cell_type": "code",
   "execution_count": 1,
   "id": "ebb1fc65",
   "metadata": {},
   "outputs": [
    {
     "ename": "NameError",
     "evalue": "name 'rec1' is not defined",
     "output_type": "error",
     "traceback": [
      "\u001b[1;31m---------------------------------------------------------------------------\u001b[0m",
      "\u001b[1;31mNameError\u001b[0m                                 Traceback (most recent call last)",
      "Input \u001b[1;32mIn [1]\u001b[0m, in \u001b[0;36m<cell line: 3>\u001b[1;34m()\u001b[0m\n\u001b[0;32m      1\u001b[0m \u001b[38;5;66;03m#This section tells us the actual number of vehicles which appeared on the road \u001b[39;00m\n\u001b[0;32m      2\u001b[0m \u001b[38;5;66;03m#Compared to the expected number of vehicles when we set the IATmain and IATcross earlier. \u001b[39;00m\n\u001b[1;32m----> 3\u001b[0m VL \u001b[38;5;241m=\u001b[39m \u001b[43mrec1\u001b[49m\u001b[38;5;241m.\u001b[39mnetwork\u001b[38;5;241m.\u001b[39mVL\n\u001b[0;32m      4\u001b[0m flowN \u001b[38;5;241m=\u001b[39m rec1\u001b[38;5;241m.\u001b[39mflow(roads\u001b[38;5;241m=\u001b[39m\u001b[38;5;124m'\u001b[39m\u001b[38;5;124mMain St\u001b[39m\u001b[38;5;124m'\u001b[39m, directions\u001b[38;5;241m=\u001b[39m\u001b[38;5;124m'\u001b[39m\u001b[38;5;124mNORTH\u001b[39m\u001b[38;5;124m'\u001b[39m)   \n\u001b[0;32m      5\u001b[0m expectedFlowN \u001b[38;5;241m=\u001b[39m \u001b[38;5;241m3600\u001b[39m\u001b[38;5;241m/\u001b[39mIATmainN                          \u001b[38;5;66;03m#3600 seconds pre hour/ IATmain = the number of cars generated \u001b[39;00m\n",
      "\u001b[1;31mNameError\u001b[0m: name 'rec1' is not defined"
     ]
    }
   ],
   "source": [
    "#This section tells us the actual number of vehicles which appeared on the road \n",
    "#Compared to the expected number of vehicles when we set the IATmain and IATcross earlier. \n",
    "VL = rec1.network.VL\n",
    "flowN = rec1.flow(roads='Main St', directions='NORTH')   \n",
    "expectedFlowN = 3600/IATmainN                          #3600 seconds pre hour/ IATmain = the number of cars generated \n",
    "print(f\"N-bound Flow: {flowN:6.1f}veh/h  \"\n",
    "      f\"expected flow: {expectedFlowN:6.1f}veh/h \")\n",
    "flowS = rec1.flow(roads='Main St', directions='SOUTH')\n",
    "expectedFlowS = 3600/IATmainS\n",
    "print(f\"S-bound Flow: {flowS:6.1f}veh/h  \"\n",
    "      f\"expected flow: {expectedFlowS:6.1f}veh/h \")\n",
    "flowE = rec1.flow(roads='Cross Rd', directions='EAST')\n",
    "expectedFlowE = 3600/IATcross\n",
    "print(f\"E-bound Flow: {flowE:6.1f}veh/h  \"\n",
    "      f\"expected flow: {expectedFlowE:6.1f}veh/h \")\n"
   ]
  },
  {
   "cell_type": "code",
   "execution_count": null,
   "id": "1916c273",
   "metadata": {},
   "outputs": [],
   "source": [
    "VL = rec1.network.VL\n",
    "flowN = rec1.avgTravelTime(roads='Main St', directions='NORTH')  \n",
    "print(f\"Average Travel time Main St North Bound: {flowN}seconds  \")\n",
    "flowS = rec1.avgTravelTime(roads='Main St', directions='SOUTH')\n",
    "print(f\"Average Travel time Main St South Bound: {flowS}seconds  \")\n",
    "flowE = rec1.avgTravelTime(roads='Cross Rd', directions='EAST')\n",
    "print(f\"Average Travel time cross road East Bound: {flowE}seconds  \")"
   ]
  },
  {
   "cell_type": "code",
   "execution_count": null,
   "id": "66c5e59c",
   "metadata": {},
   "outputs": [],
   "source": [
    "VL = rec1.network.VL\n",
    "flowN = rec1.maxTravelTime(roads='Main St', directions='NORTH')  \n",
    "print(f\"Max Travel time Main St North Bound: {flowN} seconds  \")\n",
    "flowS = rec1.maxTravelTime(roads='Main St', directions='SOUTH')\n",
    "print(f\"Max Travel time Main St South Bound: {flowS} seconds  \")\n",
    "flowE = rec1.maxTravelTime(roads='Cross Rd', directions='EAST')\n",
    "print(f\"Max Travel time cross road East Bound: {flowE} seconds  \")"
   ]
  },
  {
   "cell_type": "code",
   "execution_count": null,
   "id": "408f7f44",
   "metadata": {},
   "outputs": [],
   "source": [
    "VL = rec1.network.VL\n",
    "flowN = rec1.avgSpeed(roads='Main St', directions='NORTH')   \n",
    "print(f\"Average Speed Main St North Bound: {flowN} km/h \")\n",
    "flowS = rec1.avgSpeed(roads='Main St', directions='SOUTH')\n",
    "print(f\"Average Main St Speed South Bound: {flowS} km/h \")\n",
    "flowE = rec1.avgSpeed(roads='Cross Rd', directions='EAST')\n",
    "print(f\"Average Speed cross road East Bound: {flowE} km/h \")"
   ]
  },
  {
   "cell_type": "code",
   "execution_count": null,
   "id": "cfed4e7b",
   "metadata": {},
   "outputs": [],
   "source": [
    "# max amount of cars in the queue \n",
    "flowE = rec1.maxQueueLength(roads='Cross Rd', directions='EAST')\n",
    "print(f\"Max Queue Length cross road East Bound: {flowE} vehicles\")"
   ]
  },
  {
   "cell_type": "code",
   "execution_count": null,
   "id": "34ba1d81",
   "metadata": {},
   "outputs": [],
   "source": [
    "# average amount of cars in the queue\n",
    "flowE = rec1.avgQueueLength(roads='Cross Rd', directions='EAST')\n",
    "print(f\"Average Queue Length cross road East Bound: {flowE} vehicles\")"
   ]
  },
  {
   "cell_type": "code",
   "execution_count": null,
   "id": "fb8ba9e0",
   "metadata": {},
   "outputs": [],
   "source": [
    "# longest time a vehicle had to wait for a gap to cross the main road \n",
    "flowE = rec1.maxWaitTime(roads='Cross Rd', directions='EAST')\n",
    "print(f\"Max Wait Time to Cross East Bound: {flowE} seconds\")"
   ]
  },
  {
   "cell_type": "code",
   "execution_count": null,
   "id": "09ea6e33",
   "metadata": {},
   "outputs": [],
   "source": [
    "#average time vehicles had to wait to cross the main road \n",
    "flowE = rec1.avgWaitTime(roads='Cross Rd', directions='EAST')\n",
    "print(f\"Average Wait Time to Cross East Bound: {flowE} seconds\")"
   ]
  },
  {
   "cell_type": "markdown",
   "id": "abe19203",
   "metadata": {},
   "source": [
    "## verification at 300.veh/h"
   ]
  },
  {
   "cell_type": "markdown",
   "id": "36d88bb5",
   "metadata": {},
   "source": [
    "[TOC](#Table-of-Contents)"
   ]
  },
  {
   "cell_type": "code",
   "execution_count": null,
   "id": "1ec0bdb8",
   "metadata": {
    "ExecuteTime": {
     "end_time": "2022-07-25T22:37:04.233623Z",
     "start_time": "2022-07-25T22:36:47.255359Z"
    },
    "scrolled": false
   },
   "outputs": [],
   "source": [
    "my_seed = random.seed(21176671)\n",
    "IATmainN = 30   # 3600/120veh/h = 12 IAT\n",
    "IATmainS = 12   # 3600/300veh/h = 12 IAT\n",
    "IATcross = 36  # 3600/100veh/h = 36 IAT, 100 veh/h gives 50 for the 30 minute school run \n",
    "# for the speed values, we need to divide by 3.6 to convert from m/s to km/h\n",
    "VMAXmain = 100/3.6   \n",
    "VMAXcross = 50/3.6\n",
    "rec1 = CrossingThroughRoad(1800, \n",
    "                           seed = my_seed, \n",
    "                           VMAXmain=VMAXmain, \n",
    "                           VMAXcross=VMAXcross,\n",
    "                           IATmainN=IATmainN,  \n",
    "                           IATmainS=IATmainS, \n",
    "                           IATcross=IATcross)"
   ]
  },
  {
   "cell_type": "markdown",
   "id": "da69428d",
   "metadata": {},
   "source": [
    "### Visualisation Crossing Through Road"
   ]
  },
  {
   "cell_type": "markdown",
   "id": "12935e96",
   "metadata": {},
   "source": [
    "[TOC](#Table-of-Contents)"
   ]
  },
  {
   "cell_type": "code",
   "execution_count": null,
   "id": "ce2ef11e",
   "metadata": {
    "ExecuteTime": {
     "end_time": "2022-07-25T22:37:04.900753Z",
     "start_time": "2022-07-25T22:37:04.234348Z"
    },
    "scrolled": false
   },
   "outputs": [],
   "source": [
    "rec1.plot('t', 's', roads='Cross Rd', directions='EAST')"
   ]
  },
  {
   "cell_type": "code",
   "execution_count": null,
   "id": "41c7b7ed",
   "metadata": {
    "ExecuteTime": {
     "end_time": "2022-07-25T22:37:05.540301Z",
     "start_time": "2022-07-25T22:37:05.487544Z"
    }
   },
   "outputs": [],
   "source": [
    "rec1.plot('t', 'N', roads='Cross Rd', directions='EAST')"
   ]
  },
  {
   "cell_type": "code",
   "execution_count": null,
   "id": "2a6eac89",
   "metadata": {
    "ExecuteTime": {
     "end_time": "2022-07-25T22:37:05.619985Z",
     "start_time": "2022-07-25T22:37:05.541075Z"
    }
   },
   "outputs": [],
   "source": [
    "rec1.plot('t', 'q', roads='Cross Rd', directions='EAST')"
   ]
  },
  {
   "cell_type": "code",
   "execution_count": null,
   "id": "5983eec4",
   "metadata": {
    "ExecuteTime": {
     "end_time": "2022-07-25T22:37:05.701837Z",
     "start_time": "2022-07-25T22:37:05.624149Z"
    }
   },
   "outputs": [],
   "source": [
    "rec1.plot('t', 'w', roads='Cross Rd', directions='EAST')"
   ]
  },
  {
   "cell_type": "code",
   "execution_count": null,
   "id": "c5674824",
   "metadata": {
    "ExecuteTime": {
     "end_time": "2022-07-25T22:37:06.551112Z",
     "start_time": "2022-07-25T22:37:05.702695Z"
    }
   },
   "outputs": [],
   "source": [
    "rec1.plot('t', 's', roads='Main St', directions='NORTH')"
   ]
  },
  {
   "cell_type": "code",
   "execution_count": null,
   "id": "cd35444a",
   "metadata": {
    "ExecuteTime": {
     "end_time": "2022-07-25T22:37:07.513168Z",
     "start_time": "2022-07-25T22:37:06.551796Z"
    }
   },
   "outputs": [],
   "source": [
    "rec1.plot('t', 's', roads='Main St', directions='SOUTH')"
   ]
  },
  {
   "cell_type": "markdown",
   "id": "eda2af7b",
   "metadata": {},
   "source": [
    "#### Animation gif"
   ]
  },
  {
   "cell_type": "code",
   "execution_count": null,
   "id": "a436c5bc",
   "metadata": {
    "ExecuteTime": {
     "end_time": "2022-07-26T00:13:03.513100Z",
     "start_time": "2022-07-25T22:37:07.513873Z"
    }
   },
   "outputs": [],
   "source": [
    "#animate(rec1, 'CrossingThroughRoad', start_time=0,  end_time=200)"
   ]
  },
  {
   "cell_type": "markdown",
   "id": "085d5198",
   "metadata": {},
   "source": [
    "### Statistics Crossing Through Road"
   ]
  },
  {
   "cell_type": "markdown",
   "id": "f7ee7da4",
   "metadata": {},
   "source": [
    "[TOC](#Table-of-Contents)"
   ]
  },
  {
   "cell_type": "markdown",
   "id": "d19ba64c",
   "metadata": {},
   "source": [
    "#### Traffic Density in veh/km"
   ]
  },
  {
   "cell_type": "code",
   "execution_count": null,
   "id": "49fbf4e0",
   "metadata": {
    "ExecuteTime": {
     "end_time": "2022-07-26T00:13:03.625882Z",
     "start_time": "2022-07-26T00:13:03.514451Z"
    }
   },
   "outputs": [],
   "source": [
    "rec1.density(roads='Main St', directions='NORTH', plot=True)"
   ]
  },
  {
   "cell_type": "code",
   "execution_count": null,
   "id": "b134c7a3",
   "metadata": {
    "ExecuteTime": {
     "end_time": "2022-07-26T00:13:03.662226Z",
     "start_time": "2022-07-26T00:13:03.626677Z"
    }
   },
   "outputs": [],
   "source": [
    "rec1.density(roads='Main St', directions='SOUTH')"
   ]
  },
  {
   "cell_type": "code",
   "execution_count": null,
   "id": "621feabe",
   "metadata": {
    "ExecuteTime": {
     "end_time": "2022-07-26T00:13:03.734766Z",
     "start_time": "2022-07-26T00:13:03.663041Z"
    }
   },
   "outputs": [],
   "source": [
    "rec1.density(roads='Cross Rd', directions='EAST', plot=True)"
   ]
  },
  {
   "cell_type": "code",
   "execution_count": null,
   "id": "bb7c8c3e",
   "metadata": {},
   "outputs": [],
   "source": [
    "rec1.density(roads='Cross Rd', directions='EAST')"
   ]
  },
  {
   "cell_type": "markdown",
   "id": "07698e09",
   "metadata": {},
   "source": [
    "#### Traffic Flow in veh/h"
   ]
  },
  {
   "cell_type": "code",
   "execution_count": null,
   "id": "df7b99e5",
   "metadata": {
    "ExecuteTime": {
     "end_time": "2022-07-26T00:13:03.748290Z",
     "start_time": "2022-07-26T00:13:03.735691Z"
    }
   },
   "outputs": [],
   "source": [
    "#comparison of the number of vehicles which were on the road vs expected number of vehicles set as the IATmain and IATcross \n",
    "VL = rec1.network.VL\n",
    "flowN = rec1.flow(roads='Main St', directions='NORTH') \n",
    "expectedFlowN = 3600/IATmainN                          \n",
    "print(f\"N-bound Flow: {flowN:6.1f}veh/h  \"\n",
    "      f\"expected flow: {expectedFlowN:6.1f}veh/h \")\n",
    "flowS = rec1.flow(roads='Main St', directions='SOUTH')\n",
    "expectedFlowS = 3600/IATmainS\n",
    "print(f\"S-bound Flow: {flowS:6.1f}veh/h  \"\n",
    "      f\"expected flow: {expectedFlowS:6.1f}veh/h \")\n",
    "flowE = rec1.flow(roads='Cross Rd', directions='EAST')\n",
    "expectedFlowE = 3600/IATcross\n",
    "print(f\"E-bound Flow: {flowE:6.1f}veh/h  \"\n",
    "      f\"expected flow: {expectedFlowE:6.1f}veh/h \")\n"
   ]
  },
  {
   "cell_type": "code",
   "execution_count": null,
   "id": "984b0118",
   "metadata": {
    "ExecuteTime": {
     "end_time": "2022-07-26T00:13:03.760028Z",
     "start_time": "2022-07-26T00:13:03.755241Z"
    }
   },
   "outputs": [],
   "source": [
    "#Numer of vehicles on EAST bound road per hour \n",
    "rec1.flow(roads='Cross Rd', directions='EAST')"
   ]
  },
  {
   "cell_type": "code",
   "execution_count": null,
   "id": "eeee48fb",
   "metadata": {},
   "outputs": [],
   "source": [
    "# average time taken to travel each road\n",
    "VL = rec1.network.VL\n",
    "flowN = rec1.avgTravelTime(roads='Main St', directions='NORTH')  \n",
    "print(f\"Average Travel time Main St North Bound: {flowN}seconds  \")\n",
    "flowS = rec1.avgTravelTime(roads='Main St', directions='SOUTH')\n",
    "print(f\"Average Travel time Main St South Bound: {flowS}seconds  \")\n",
    "flowE = rec1.avgTravelTime(roads='Cross Rd', directions='EAST')\n",
    "print(f\"Average Travel time cross road East Bound: {flowE}seconds  \")"
   ]
  },
  {
   "cell_type": "code",
   "execution_count": null,
   "id": "a6b1f7a7",
   "metadata": {},
   "outputs": [],
   "source": [
    "#max time taken to travel each road\n",
    "VL = rec1.network.VL\n",
    "flowN = rec1.maxTravelTime(roads='Main St', directions='NORTH')  \n",
    "print(f\"Maximum Travel time Main St North Bound: {flowN} seconds  \")\n",
    "flowS = rec1.maxTravelTime(roads='Main St', directions='SOUTH')\n",
    "print(f\"Maximum Travel time Main St South Bound: {flowS} seconds  \")\n",
    "flowE = rec1.maxTravelTime(roads='Cross Rd', directions='EAST')\n",
    "print(f\"Maximum Travel time cross road East Bound: {flowE} seconds  \")"
   ]
  },
  {
   "cell_type": "code",
   "execution_count": null,
   "id": "f60bdde2",
   "metadata": {},
   "outputs": [],
   "source": [
    "# average speed (km/h) of cars on each road\n",
    "VL = rec1.network.VL\n",
    "flowN = rec1.avgSpeed(roads='Main St', directions='NORTH')   \n",
    "print(f\"Average Speed Main St North Bound: {flowN} km/h \")\n",
    "flowS = rec1.avgSpeed(roads='Main St', directions='SOUTH')\n",
    "print(f\"Average Speed Main St South Bound: {flowS} km/h \")\n",
    "flowE = rec1.avgSpeed(roads='Cross Rd', directions='EAST')\n",
    "print(f\"Average Speed cross road East Bound: {flowE} km/h \")"
   ]
  },
  {
   "cell_type": "code",
   "execution_count": null,
   "id": "e56e6f56",
   "metadata": {
    "ExecuteTime": {
     "end_time": "2022-07-26T00:13:03.822649Z",
     "start_time": "2022-07-26T00:13:03.817608Z"
    }
   },
   "outputs": [],
   "source": [
    "# max numbers of cars in the queue \n",
    "flowE = rec1.maxQueueLength(roads='Cross Rd', directions='EAST')\n",
    "print(f\"Max Queue Length cross road East Bound: {flowE} vehicles\")"
   ]
  },
  {
   "cell_type": "code",
   "execution_count": null,
   "id": "aac3ba7d",
   "metadata": {},
   "outputs": [],
   "source": [
    "#average numbers of cars in the queue \n",
    "flowE = rec1.avgQueueLength(roads='Cross Rd', directions='EAST')\n",
    "print(f\"Average Queue Length cross road East Bound: {flowE} vehicles\")"
   ]
  },
  {
   "cell_type": "code",
   "execution_count": null,
   "id": "673cac71",
   "metadata": {
    "ExecuteTime": {
     "end_time": "2022-07-26T00:13:03.829496Z",
     "start_time": "2022-07-26T00:13:03.823557Z"
    }
   },
   "outputs": [],
   "source": [
    "#longest time a vehicle had to wait for a gap to cross the main road \n",
    "flowE = rec1.maxWaitTime(roads='Cross Rd', directions='EAST')\n",
    "print(f\"Max Wait Time to Cross East Bound: {flowE} seconds\")"
   ]
  },
  {
   "cell_type": "code",
   "execution_count": null,
   "id": "5dd220a1",
   "metadata": {},
   "outputs": [],
   "source": [
    "# average time the cars had to wait to cross the main road \n",
    "flowE = rec1.avgWaitTime(roads='Cross Rd', directions='EAST')\n",
    "print(f\"Average Wait Time to Cross East Bound: {flowE} seconds\")"
   ]
  },
  {
   "cell_type": "markdown",
   "id": "549a0381",
   "metadata": {},
   "source": [
    "#### Flow of vehicles "
   ]
  },
  {
   "cell_type": "code",
   "execution_count": null,
   "id": "b134ecfb",
   "metadata": {},
   "outputs": [],
   "source": [
    "#flow\n",
    "flowE = rec1.flow(roads='Cross Rd', directions='EAST')\n",
    "print(f\"Flow of vehicles: {flowE}\")"
   ]
  },
  {
   "cell_type": "markdown",
   "id": "f5cb106d",
   "metadata": {},
   "source": [
    "## Multiple Simulations"
   ]
  },
  {
   "cell_type": "code",
   "execution_count": null,
   "id": "da4dade4",
   "metadata": {},
   "outputs": [],
   "source": [
    "def simfilename(N=20, Tmax=1800, \n",
    "                SPEEDmain=100, SPEEDcross=50,\n",
    "                IATmainN=30, IATmainS=12, IATcross=36):\n",
    "    return f\"simTL N={N:d} T={Tmax:d}s \" \\\n",
    "           f\"SPEEDmain={SPEEDmain:d}kmh IAT_S={IATmainS:d} IAT_local={IATcross:d}s.csv\""
   ]
  },
  {
   "cell_type": "code",
   "execution_count": null,
   "id": "49784649",
   "metadata": {},
   "outputs": [],
   "source": [
    "def simulations(N=2, seed=21176671, Tmax=1800, loc=2,\n",
    "                SPEEDmain=100, SPEEDcross=50, \n",
    "                IATmainN=30, IATmainS=12, IATcross=36,\n",
    "                filename=None):\n",
    "    if filename is None:\n",
    "        filename = simfilename(N=N, Tmax=Tmax, SPEEDmain=SPEEDmain, SPEEDcross=SPEEDcross, \n",
    "                                IATmainN=IATmainN,  IATmainS=IATmainS, IATcross=IATcross)\n",
    "    print(\"Output:\", filename)    \n",
    "    recs = []\n",
    "    for i in range(N):\n",
    "        print('.', end='')\n",
    "        rec = CrossingThroughRoad(Tmax=Tmax, seed=seed, loc=loc,\n",
    "                           VMAXmain=SPEEDmain/3.6, VMAXcross=SPEEDcross/3.6, \n",
    "                          IATmainN=IATmainN, IATmainS=IATmainS, IATcross=IATcross)\n",
    "        seed += 1\n",
    "        recs.append(rec)\n",
    "    saveRecs(recs, filename)\n",
    "    print()\n",
    "    return filename"
   ]
  },
  {
   "cell_type": "code",
   "execution_count": null,
   "id": "9f8d54a6",
   "metadata": {},
   "outputs": [],
   "source": [
    "# do 15 sims of each current scenario to verify the simulation model \n",
    "filenames = \\\n",
    "    [ simulations(N=15, Tmax=1800, IATmainS=18, IATcross=36),   #200 cars \n",
    "      simulations(N=15, Tmax=1800, IATmainS=12, IATcross=36)   #300 cars \n",
    "    ]"
   ]
  },
  {
   "cell_type": "code",
   "execution_count": null,
   "id": "ca4edd74",
   "metadata": {},
   "outputs": [],
   "source": [
    "filenames_load = ['simTL N=15 T=1800s SPEEDmain=100kmh IAT_S=18 IAT_local=36s.csv',\n",
    "              'simTL N=15 T=1800s SPEEDmain=100kmh IAT_S=12 IAT_local=36s.csv'\n",
    "            ]"
   ]
  },
  {
   "cell_type": "code",
   "execution_count": null,
   "id": "7588ff53",
   "metadata": {},
   "outputs": [],
   "source": [
    "def label(n):\n",
    "    return f\"{n:d} Veh/h\"\n",
    "\n",
    "labels = [ label(200), label(300) ]"
   ]
  },
  {
   "cell_type": "code",
   "execution_count": null,
   "id": "a28920c6",
   "metadata": {},
   "outputs": [],
   "source": [
    "recs = [ loadRecs(fn) for fn in filenames_load ]"
   ]
  },
  {
   "cell_type": "code",
   "execution_count": null,
   "id": "fc677471",
   "metadata": {},
   "outputs": [],
   "source": [
    "# function to get the labels to fit in the tight space under each box plot\n",
    "def bp_label(n, v):\n",
    "    return str(n)+\"veh/h\" +  \"\\n \" + str(v) + \"Km/h\"\n",
    "\n",
    "bp_labels = [ bp_label(200, 100), bp_label(300, 100)]\n"
   ]
  },
  {
   "cell_type": "code",
   "execution_count": null,
   "id": "5966d229",
   "metadata": {},
   "outputs": [],
   "source": [
    "bp_labels[0]"
   ]
  },
  {
   "cell_type": "code",
   "execution_count": null,
   "id": "bf417dd9",
   "metadata": {},
   "outputs": [],
   "source": [
    "avg_travel_t = avgTravelTime(recs, roads = 'Cross Rd')\n",
    "print(\"average travel times per simulation: \")\n",
    "for i in range(len(avg_travel_t)):\n",
    "    print(labels[i], np.average(avg_travel_t[i]))\n",
    "avg_travel_t\n"
   ]
  },
  {
   "cell_type": "code",
   "execution_count": null,
   "id": "54b39614",
   "metadata": {},
   "outputs": [],
   "source": [
    "avg_travel_t_boxplots = plt.boxplot(avg_travel_t, labels = bp_labels)"
   ]
  },
  {
   "cell_type": "code",
   "execution_count": null,
   "id": "aba5c82f",
   "metadata": {},
   "outputs": [],
   "source": [
    "max_travel_t = maxTravelTime(recs, roads = 'Cross Rd')\n",
    "print(\"max travel times per simulation: \")\n",
    "for i in range(len(max_travel_t)):\n",
    "    print(labels[i], np.average(max_travel_t[i]))\n",
    "\n",
    "max_travel_t_boxplots = plt.boxplot(max_travel_t, labels = bp_labels)"
   ]
  },
  {
   "cell_type": "code",
   "execution_count": null,
   "id": "99db6b53",
   "metadata": {},
   "outputs": [],
   "source": [
    "avg_Q = avgQueueLength(recs, roads = 'Cross Rd')\n",
    "print(\"average queue length per simulation: \")\n",
    "for i in range(len(avg_Q)):\n",
    "    print(labels[i], np.average(avg_Q[i]))\n",
    "\n",
    "avg_Q_boxplots = plt.boxplot(avg_Q, labels = bp_labels)\n"
   ]
  },
  {
   "cell_type": "code",
   "execution_count": null,
   "id": "391187bf",
   "metadata": {},
   "outputs": [],
   "source": [
    "avg_wait_t = avgWaitTime(recs, roads = 'Cross Rd')\n",
    "print(\"average wait times per simulation: \")\n",
    "for i in range(len(avg_wait_t)):\n",
    "    print(labels[i], np.average(avg_wait_t[i]))\n",
    "\n",
    "avg_wait_t_boxplots = plt.boxplot(avg_wait_t, labels = bp_labels)"
   ]
  },
  {
   "cell_type": "code",
   "execution_count": null,
   "id": "23536c47",
   "metadata": {},
   "outputs": [],
   "source": [
    "max_wait_t = maxWaitTime(recs, roads = 'Cross Rd')\n",
    "print(\"max wait times per simulation: \")\n",
    "for i in range(len(max_wait_t)):\n",
    "    print(labels[i], np.average(max_wait_t[i]))\n",
    "\n",
    "max_wait_t_boxplots = plt.boxplot(max_wait_t, labels = bp_labels)\n",
    "[item.get_ydata() for item in max_wait_t_boxplots['means']]"
   ]
  },
  {
   "cell_type": "code",
   "execution_count": null,
   "id": "19ca7095",
   "metadata": {},
   "outputs": [],
   "source": [
    "avg_speed_sims = maxWaitTime(recs, roads = 'Cross Rd')\n",
    "print(\"max wait times per simulation: \")\n",
    "for i in range(len(avg_speed_sims)):\n",
    "    print(labels[i], np.average(avg_speed_sims[i]))\n",
    "\n",
    "max_wait_t_boxplots = plt.boxplot(avg_speed_sims, labels = bp_labels)\n",
    "#[item.get_ydata() for item in avg_speed_sims['means']]"
   ]
  },
  {
   "cell_type": "code",
   "execution_count": null,
   "id": "592207a7",
   "metadata": {},
   "outputs": [],
   "source": [
    "# expected flows"
   ]
  },
  {
   "cell_type": "code",
   "execution_count": null,
   "id": "e4b4d722",
   "metadata": {},
   "outputs": [],
   "source": [
    "flowN_multi = flow(recs, roads='Main St', directions='NORTH')   \n",
    "print(\"average simulated flow main road north:\")\n",
    "for i in range(len(flowN_multi)):\n",
    "    print(labels[i],\":\", np.average(flowN_multi[i]))\n",
    "\n"
   ]
  },
  {
   "cell_type": "code",
   "execution_count": null,
   "id": "1406d0ed",
   "metadata": {},
   "outputs": [],
   "source": [
    "flowS_multi = flow(recs, roads='Main St', directions='SOUTH')   \n",
    "print(\"average simulated flow main road south:\")\n",
    "for i in range(len(flowS_multi)):\n",
    "    print(labels[i],\":\", np.average(flowS_multi[i]))"
   ]
  },
  {
   "cell_type": "code",
   "execution_count": null,
   "id": "e2eaf5bf",
   "metadata": {},
   "outputs": [],
   "source": [
    "flowE_multi = flow(recs, roads='Cross Rd', directions='EAST')   \n",
    "print(\"expected flow: 100veh/h\")\n",
    "print(\"average simulated flow local road east:\")\n",
    "for i in range(len(flowE_multi)):\n",
    "    print(labels[i],\":\", np.average(flowE_multi[i]))"
   ]
  },
  {
   "cell_type": "code",
   "execution_count": null,
   "id": "07fa360f",
   "metadata": {},
   "outputs": [],
   "source": []
  },
  {
   "cell_type": "code",
   "execution_count": null,
   "id": "38e3e957",
   "metadata": {},
   "outputs": [],
   "source": []
  },
  {
   "cell_type": "code",
   "execution_count": null,
   "id": "fa1262ea",
   "metadata": {},
   "outputs": [],
   "source": []
  },
  {
   "cell_type": "code",
   "execution_count": null,
   "id": "722cb7d9",
   "metadata": {},
   "outputs": [],
   "source": []
  },
  {
   "cell_type": "code",
   "execution_count": null,
   "id": "5d02de8c",
   "metadata": {},
   "outputs": [],
   "source": []
  },
  {
   "cell_type": "code",
   "execution_count": null,
   "id": "b734bb3b",
   "metadata": {},
   "outputs": [],
   "source": []
  },
  {
   "cell_type": "code",
   "execution_count": null,
   "id": "02d13476",
   "metadata": {},
   "outputs": [],
   "source": []
  },
  {
   "cell_type": "code",
   "execution_count": null,
   "id": "5a125894",
   "metadata": {},
   "outputs": [],
   "source": []
  },
  {
   "cell_type": "code",
   "execution_count": null,
   "id": "9552c33a",
   "metadata": {},
   "outputs": [],
   "source": []
  },
  {
   "cell_type": "code",
   "execution_count": null,
   "id": "a7c544d3",
   "metadata": {},
   "outputs": [],
   "source": []
  },
  {
   "cell_type": "code",
   "execution_count": null,
   "id": "210b8f83",
   "metadata": {},
   "outputs": [],
   "source": []
  },
  {
   "cell_type": "code",
   "execution_count": null,
   "id": "bc6867bc",
   "metadata": {},
   "outputs": [],
   "source": []
  },
  {
   "cell_type": "code",
   "execution_count": null,
   "id": "4939abc5",
   "metadata": {},
   "outputs": [],
   "source": []
  },
  {
   "cell_type": "code",
   "execution_count": null,
   "id": "4760ccd5",
   "metadata": {},
   "outputs": [],
   "source": []
  },
  {
   "cell_type": "code",
   "execution_count": null,
   "id": "b30e2bae",
   "metadata": {},
   "outputs": [],
   "source": []
  }
 ],
 "metadata": {
  "kernelspec": {
   "display_name": "Python 3 (ipykernel)",
   "language": "python",
   "name": "python3"
  },
  "language_info": {
   "codemirror_mode": {
    "name": "ipython",
    "version": 3
   },
   "file_extension": ".py",
   "mimetype": "text/x-python",
   "name": "python",
   "nbconvert_exporter": "python",
   "pygments_lexer": "ipython3",
   "version": "3.9.12"
  },
  "toc": {
   "base_numbering": 1,
   "nav_menu": {
    "height": "457.628662109375px",
    "width": "296.98529052734375px"
   },
   "number_sections": true,
   "sideBar": true,
   "skip_h1_title": false,
   "title_cell": "Table of Contents",
   "title_sidebar": "Contents",
   "toc_cell": true,
   "toc_position": {},
   "toc_section_display": true,
   "toc_window_display": false
  }
 },
 "nbformat": 4,
 "nbformat_minor": 5
}
